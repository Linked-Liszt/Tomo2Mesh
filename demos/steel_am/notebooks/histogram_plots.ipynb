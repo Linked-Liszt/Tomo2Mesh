{
 "cells": [
  {
   "cell_type": "markdown",
   "id": "f50c42dc",
   "metadata": {},
   "source": [
    "## Segment a sparse 3D image with a single material component  \n",
    "\n",
    "The goal of this notebook is to develop a 3D segmentation algorithm that improves segmentation where features are detected.\n",
    "\n",
    "**Data:** AM parts from Xuan Zhang. "
   ]
  },
  {
   "cell_type": "code",
   "execution_count": 1,
   "id": "dfc91290",
   "metadata": {},
   "outputs": [],
   "source": [
    "%matplotlib inline\n",
    "import numpy as np\n",
    "import matplotlib.pyplot as plt\n",
    "import seaborn as sns\n",
    "\n",
    "from tomo2mesh.misc import viewer\n",
    "from tomo2mesh import DataFile\n",
    "from skimage.filters import threshold_otsu\n",
    "from tomo2mesh import Voids\n",
    "import os\n",
    "from tomo2mesh.projects.steel_am.rw_utils import *\n",
    "import seaborn as sns"
   ]
  },
  {
   "cell_type": "code",
   "execution_count": 2,
   "id": "6a354278",
   "metadata": {},
   "outputs": [],
   "source": [
    "sns.set(font_scale=1.2)\n",
    "sns.set_style(style='white')"
   ]
  },
  {
   "cell_type": "code",
   "execution_count": 3,
   "id": "9345ac67",
   "metadata": {},
   "outputs": [],
   "source": [
    "voids_1 = Voids().import_from_disk(os.path.join(voids_dir,f\"voids_b_1\"))"
   ]
  },
  {
   "cell_type": "code",
   "execution_count": 4,
   "id": "9c19d4bc",
   "metadata": {},
   "outputs": [],
   "source": [
    "voids_2 = Voids().import_from_disk(os.path.join(voids_dir,f\"c2f_2k_b_2_subset\"))"
   ]
  },
  {
   "cell_type": "code",
   "execution_count": 5,
   "id": "f8392e9d",
   "metadata": {},
   "outputs": [],
   "source": [
    "voids_4 = Voids().import_from_disk(os.path.join(voids_dir,f\"c2f_2k_b_4_subset\"))"
   ]
  },
  {
   "cell_type": "code",
   "execution_count": 6,
   "id": "8fe6488b",
   "metadata": {},
   "outputs": [],
   "source": [
    "s1 = np.cbrt(voids_1[\"sizes\"])*2.34\n",
    "s2 = np.cbrt(voids_2[\"sizes\"])*2.34\n",
    "s4 = np.cbrt(voids_4[\"sizes\"])*2.34"
   ]
  },
  {
   "cell_type": "code",
   "execution_count": 7,
   "id": "f7c5b03b",
   "metadata": {},
   "outputs": [
    {
     "data": {
      "text/plain": [
       "[<matplotlib.axis.XTick at 0x7f77d624c6a0>,\n",
       " <matplotlib.axis.XTick at 0x7f77d624c6d0>,\n",
       " <matplotlib.axis.XTick at 0x7f77d64d83a0>,\n",
       " <matplotlib.axis.XTick at 0x7f77d5c9d370>,\n",
       " <matplotlib.axis.XTick at 0x7f77d5c9dac0>,\n",
       " <matplotlib.axis.XTick at 0x7f77d5c91250>,\n",
       " <matplotlib.axis.XTick at 0x7f77d5c919a0>,\n",
       " <matplotlib.axis.XTick at 0x7f77d5c9d880>,\n",
       " <matplotlib.axis.XTick at 0x7f77d5c91280>]"
      ]
     },
     "execution_count": 7,
     "metadata": {},
     "output_type": "execute_result"
    },
    {
     "data": {
      "image/png": "[encoded data removed]",
      "text/plain": [
       "<Figure size 576x576 with 1 Axes>"
      ]
     },
     "metadata": {},
     "output_type": "display_data"
    }
   ],
   "source": [
    "fig, ax = plt.subplots(1,1,figsize = (8,8))\n",
    "_ = ax.hist(s1[s1>3*2.34], bins = 500, density = False, color = 'blue', label = '$b=1$', alpha = 1)\n",
    "_ = ax.hist(s2[s2>3*2.34], bins = 500, density = False, color = 'red', label = '$b=2$', alpha = 1)\n",
    "_ = ax.hist(s4[s4>3*2.34], bins = 500, density = False, color = 'green', label = '$b=4$', alpha = 0.7)\n",
    "\n",
    "\n",
    "ax.set_xlim([3*2.34,30])\n",
    "ax.legend()\n",
    "ax.set_xlabel(\"void size (${\\mu{m}}$)\")\n",
    "ax.set_ylabel(\"number of voids\")\n",
    "ax.set_xticks(np.linspace(6,30,9,endpoint=True))"
   ]
  },
  {
   "cell_type": "code",
   "execution_count": 20,
   "id": "a224030c",
   "metadata": {},
   "outputs": [
    {
     "data": {
      "text/plain": [
       "(21.0, 30.0, 0.0, 2500.0)"
      ]
     },
     "execution_count": 20,
     "metadata": {},
     "output_type": "execute_result"
    },
    {
     "data": {
      "image/png": "[encoded data removed]",
      "text/plain": [
       "<Figure size 576x576 with 1 Axes>"
      ]
     },
     "metadata": {},
     "output_type": "display_data"
    }
   ],
   "source": [
    "fig, ax = plt.subplots(1,1,figsize = (8,8))\n",
    "_ = ax.hist(s1[s1>3*2.34], bins = 500, density = False, color = 'blue', label = '$b=1$', alpha = 1)\n",
    "_ = ax.hist(s2[s2>3*2.34], bins = 500, density = False, color = 'red', label = '$b=2$', alpha = 1)\n",
    "_ = ax.hist(s4[s4>3*2.34], bins = 500, density = False, color = 'green', label = '$b=4$', alpha = 0.7)\n",
    "\n",
    "\n",
    "ax.set_xlim([21,30])\n",
    "ax.set_ylim([0,2500])\n",
    "ax.axis('off')\n",
    "# ax.legend()\n",
    "# ax.set_xlabel(\"void size (${\\mu{m}}$)\")\n",
    "# ax.set_ylabel(\"number of voids\")\n",
    "# ax.set_xticks(np.linspace(6,30,9,endpoint=True))"
   ]
  },
  {
   "cell_type": "code",
   "execution_count": 8,
   "id": "ea0674d4",
   "metadata": {},
   "outputs": [
    {
     "name": "stdout",
     "output_type": "stream",
     "text": [
      "number of noisy pixels wrongly detected as voids in b = 2, : 99412, total detected : 255632\n",
      "number of noisy pixels wrongly detected as voids in b = 4, : 4446, total detected : 39211\n"
     ]
    }
   ],
   "source": [
    "print(f\"number of noisy pixels wrongly detected as voids in b = 2, : {s2.size - np.sum(s2 >3*2.34)}, total detected : {s2.size}\")\n",
    "print(f\"number of noisy pixels wrongly detected as voids in b = 4, : {s4.size - np.sum(s4 >3*2.34)}, total detected : {s4.size}\")"
   ]
  },
  {
   "cell_type": "code",
   "execution_count": 9,
   "id": "62a75523",
   "metadata": {},
   "outputs": [
    {
     "name": "stdout",
     "output_type": "stream",
     "text": [
      "number of actual voids detected in b = 1: 162634\n",
      "number of actual voids detected in b = 2: 156220\n",
      "number of actual voids detected in b = 4: 34765\n"
     ]
    }
   ],
   "source": [
    "print(f\"number of actual voids detected in b = 1: {np.sum(s1 >3*2.34)}\")\n",
    "print(f\"number of actual voids detected in b = 2: {np.sum(s2 >3*2.34)}\")\n",
    "print(f\"number of actual voids detected in b = 4: {np.sum(s4 >3*2.34)}\")"
   ]
  },
  {
   "cell_type": "code",
   "execution_count": 10,
   "id": "24c7c328",
   "metadata": {},
   "outputs": [],
   "source": [
    "# fig, ax = plt.subplots(3,1,figsize = (8,8), sharex = True, sharey = False)\n",
    "# _ = ax[0].hist(s1[s1>2.34*3], bins = 500, density = False, color = 'blue', label = '$b=1$')\n",
    "# _ = ax[1].hist(s2[s2>2.34*3], bins = 500, density = False, color = 'red', label = '$b=2$')\n",
    "# _ = ax[2].hist(s4[s4>2.34*3], bins = 500, density = False, color = 'green', label = '$b=4$')\n",
    "\n",
    "\n",
    "# ax[0].set_xlim([3*2.34,30])\n",
    "# # ax.legend()\n",
    "# ax[2].set_xlabel(\"void size (${\\mu{m}}$)\")\n",
    "# ax[1].set_ylabel(\"number of voids\")\n",
    "# ax[0].set_xticks(np.linspace(6,30,9,endpoint=True))\n",
    "# [ax[i3].legend() for i3 in range(3)]"
   ]
  },
  {
   "cell_type": "code",
   "execution_count": null,
   "id": "93ad683c",
   "metadata": {},
   "outputs": [],
   "source": []
  },
  {
   "cell_type": "code",
   "execution_count": null,
   "id": "343a36df",
   "metadata": {},
   "outputs": [],
   "source": []
  },
  {
   "cell_type": "code",
   "execution_count": null,
   "id": "7c38929f",
   "metadata": {},
   "outputs": [],
   "source": []
  },
  {
   "cell_type": "code",
   "execution_count": null,
   "id": "48a62fa3",
   "metadata": {},
   "outputs": [],
   "source": []
  },
  {
   "cell_type": "code",
   "execution_count": null,
   "id": "fab4c891",
   "metadata": {},
   "outputs": [],
   "source": []
  },
  {
   "cell_type": "code",
   "execution_count": null,
   "id": "1a2cb96f",
   "metadata": {},
   "outputs": [],
   "source": []
  }
 ],
 "metadata": {
  "kernelspec": {
   "display_name": "tf2 cuda 112",
   "language": "python",
   "name": "tf2gpu"
  },
  "language_info": {
   "codemirror_mode": {
    "name": "ipython",
    "version": 3
   },
   "file_extension": ".py",
   "mimetype": "text/x-python",
   "name": "python",
   "nbconvert_exporter": "python",
   "pygments_lexer": "ipython3",
   "version": "3.9.12"
  }
 },
 "nbformat": 4,
 "nbformat_minor": 5
}
