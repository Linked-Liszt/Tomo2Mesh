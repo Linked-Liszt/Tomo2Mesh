{
 "cells": [
  {
   "cell_type": "code",
   "execution_count": 1,
   "id": "db711f6a",
   "metadata": {},
   "outputs": [
    {
     "data": {
      "text/html": [
       "<div>\n",
       "<style scoped>\n",
       "    .dataframe tbody tr th:only-of-type {\n",
       "        vertical-align: middle;\n",
       "    }\n",
       "\n",
       "    .dataframe tbody tr th {\n",
       "        vertical-align: top;\n",
       "    }\n",
       "\n",
       "    .dataframe thead th {\n",
       "        text-align: right;\n",
       "    }\n",
       "</style>\n",
       "<table border=\"1\" class=\"dataframe\">\n",
       "  <thead>\n",
       "    <tr style=\"text-align: right;\">\n",
       "      <th></th>\n",
       "      <th>sparsity (${1/r}$)</th>\n",
       "      <th>${t_{mapping}}$</th>\n",
       "      <th>${t_{mesh}}$</th>\n",
       "      <th>n_voids</th>\n",
       "    </tr>\n",
       "    <tr>\n",
       "      <th>criteria</th>\n",
       "      <th></th>\n",
       "      <th></th>\n",
       "      <th></th>\n",
       "      <th></th>\n",
       "    </tr>\n",
       "  </thead>\n",
       "  <tbody>\n",
       "    <tr>\n",
       "      <th>all_geq_14um</th>\n",
       "      <td>7.042906</td>\n",
       "      <td>103.266391</td>\n",
       "      <td>12.938812</td>\n",
       "      <td>18824.0</td>\n",
       "    </tr>\n",
       "    <tr>\n",
       "      <th>cylindrical_neighborhood</th>\n",
       "      <td>6.068429</td>\n",
       "      <td>106.393859</td>\n",
       "      <td>14.422683</td>\n",
       "      <td>61270.0</td>\n",
       "    </tr>\n",
       "    <tr>\n",
       "      <th>spherical_neighborhood</th>\n",
       "      <td>61.565054</td>\n",
       "      <td>42.497461</td>\n",
       "      <td>7.898452</td>\n",
       "      <td>5817.0</td>\n",
       "    </tr>\n",
       "  </tbody>\n",
       "</table>\n",
       "</div>"
      ],
      "text/plain": [
       "                          sparsity (${1/r}$)  ${t_{mapping}}$  ${t_{mesh}}$  \\\n",
       "criteria                                                                      \n",
       "all_geq_14um                        7.042906       103.266391     12.938812   \n",
       "cylindrical_neighborhood            6.068429       106.393859     14.422683   \n",
       "spherical_neighborhood             61.565054        42.497461      7.898452   \n",
       "\n",
       "                          n_voids  \n",
       "criteria                           \n",
       "all_geq_14um              18824.0  \n",
       "cylindrical_neighborhood  61270.0  \n",
       "spherical_neighborhood     5817.0  "
      ]
     },
     "execution_count": 1,
     "metadata": {},
     "output_type": "execute_result"
    }
   ],
   "source": [
    "import pandas as pd\n",
    "df = pd.read_csv('/data02/MyArchive/tomo_datasets/data_porosity_mapping_paper/time_logs/smartvis_times_2k.csv')\n",
    "df.groupby('criteria').median()\n",
    "# df"
   ]
  },
  {
   "cell_type": "code",
   "execution_count": 2,
   "id": "68b6bb6c",
   "metadata": {},
   "outputs": [
    {
     "data": {
      "text/html": [
       "<div>\n",
       "<style scoped>\n",
       "    .dataframe tbody tr th:only-of-type {\n",
       "        vertical-align: middle;\n",
       "    }\n",
       "\n",
       "    .dataframe tbody tr th {\n",
       "        vertical-align: top;\n",
       "    }\n",
       "\n",
       "    .dataframe thead th {\n",
       "        text-align: right;\n",
       "    }\n",
       "</style>\n",
       "<table border=\"1\" class=\"dataframe\">\n",
       "  <thead>\n",
       "    <tr style=\"text-align: right;\">\n",
       "      <th></th>\n",
       "      <th>sparsity (${1/r}$)</th>\n",
       "      <th>${t_{mapping}}$</th>\n",
       "      <th>${t_{mesh}}$</th>\n",
       "      <th>n_voids</th>\n",
       "    </tr>\n",
       "    <tr>\n",
       "      <th>criteria</th>\n",
       "      <th></th>\n",
       "      <th></th>\n",
       "      <th></th>\n",
       "      <th></th>\n",
       "    </tr>\n",
       "  </thead>\n",
       "  <tbody>\n",
       "    <tr>\n",
       "      <th>all_geq_14um</th>\n",
       "      <td>25.411092</td>\n",
       "      <td>354.294156</td>\n",
       "      <td>82.743774</td>\n",
       "      <td>19496.0</td>\n",
       "    </tr>\n",
       "    <tr>\n",
       "      <th>cylindrical_neighborhood</th>\n",
       "      <td>17.708544</td>\n",
       "      <td>337.898594</td>\n",
       "      <td>85.175128</td>\n",
       "      <td>85480.0</td>\n",
       "    </tr>\n",
       "    <tr>\n",
       "      <th>spherical_neighborhood</th>\n",
       "      <td>174.095301</td>\n",
       "      <td>118.783781</td>\n",
       "      <td>59.321834</td>\n",
       "      <td>7291.0</td>\n",
       "    </tr>\n",
       "  </tbody>\n",
       "</table>\n",
       "</div>"
      ],
      "text/plain": [
       "                          sparsity (${1/r}$)  ${t_{mapping}}$  ${t_{mesh}}$  \\\n",
       "criteria                                                                      \n",
       "all_geq_14um                       25.411092       354.294156     82.743774   \n",
       "cylindrical_neighborhood           17.708544       337.898594     85.175128   \n",
       "spherical_neighborhood            174.095301       118.783781     59.321834   \n",
       "\n",
       "                          n_voids  \n",
       "criteria                           \n",
       "all_geq_14um              19496.0  \n",
       "cylindrical_neighborhood  85480.0  \n",
       "spherical_neighborhood     7291.0  "
      ]
     },
     "execution_count": 2,
     "metadata": {},
     "output_type": "execute_result"
    }
   ],
   "source": [
    "df = pd.read_csv('/data02/MyArchive/tomo_datasets/data_porosity_mapping_paper/time_logs/smartvis_times_4k.csv')\n",
    "df.groupby('criteria').median()"
   ]
  },
  {
   "cell_type": "code",
   "execution_count": 3,
   "id": "7ed21313",
   "metadata": {},
   "outputs": [
    {
     "data": {
      "text/html": [
       "<div>\n",
       "<style scoped>\n",
       "    .dataframe tbody tr th:only-of-type {\n",
       "        vertical-align: middle;\n",
       "    }\n",
       "\n",
       "    .dataframe tbody tr th {\n",
       "        vertical-align: top;\n",
       "    }\n",
       "\n",
       "    .dataframe thead th {\n",
       "        text-align: right;\n",
       "    }\n",
       "</style>\n",
       "<table border=\"1\" class=\"dataframe\">\n",
       "  <thead>\n",
       "    <tr style=\"text-align: right;\">\n",
       "      <th></th>\n",
       "      <th>sparsity</th>\n",
       "      <th>r_fac_z</th>\n",
       "      <th>voids</th>\n",
       "      <th>reconstruct-coarse</th>\n",
       "      <th>label-coarse</th>\n",
       "      <th>reconstruct-subset</th>\n",
       "      <th>label-subset</th>\n",
       "    </tr>\n",
       "    <tr>\n",
       "      <th>b</th>\n",
       "      <th></th>\n",
       "      <th></th>\n",
       "      <th></th>\n",
       "      <th></th>\n",
       "      <th></th>\n",
       "      <th></th>\n",
       "      <th></th>\n",
       "    </tr>\n",
       "  </thead>\n",
       "  <tbody>\n",
       "    <tr>\n",
       "      <th>1.0</th>\n",
       "      <td>1.000000</td>\n",
       "      <td>NaN</td>\n",
       "      <td>162634.0</td>\n",
       "      <td>NaN</td>\n",
       "      <td>NaN</td>\n",
       "      <td>361.205219</td>\n",
       "      <td>80.026016</td>\n",
       "    </tr>\n",
       "    <tr>\n",
       "      <th>2.0</th>\n",
       "      <td>2.196872</td>\n",
       "      <td>1.0</td>\n",
       "      <td>154067.0</td>\n",
       "      <td>8.983416</td>\n",
       "      <td>21.845497</td>\n",
       "      <td>172.452063</td>\n",
       "      <td>27.921160</td>\n",
       "    </tr>\n",
       "    <tr>\n",
       "      <th>4.0</th>\n",
       "      <td>6.800457</td>\n",
       "      <td>1.0</td>\n",
       "      <td>34711.0</td>\n",
       "      <td>0.808174</td>\n",
       "      <td>4.551063</td>\n",
       "      <td>60.330098</td>\n",
       "      <td>10.428983</td>\n",
       "    </tr>\n",
       "  </tbody>\n",
       "</table>\n",
       "</div>"
      ],
      "text/plain": [
       "     sparsity  r_fac_z     voids  reconstruct-coarse  label-coarse  \\\n",
       "b                                                                    \n",
       "1.0  1.000000      NaN  162634.0                 NaN           NaN   \n",
       "2.0  2.196872      1.0  154067.0            8.983416     21.845497   \n",
       "4.0  6.800457      1.0   34711.0            0.808174      4.551063   \n",
       "\n",
       "     reconstruct-subset  label-subset  \n",
       "b                                      \n",
       "1.0          361.205219     80.026016  \n",
       "2.0          172.452063     27.921160  \n",
       "4.0           60.330098     10.428983  "
      ]
     },
     "execution_count": 3,
     "metadata": {},
     "output_type": "execute_result"
    }
   ],
   "source": [
    "df0 = pd.read_csv('/data02/MyArchive/tomo_datasets/data_porosity_mapping_paper/time_logs/coarse2fine_2k_1.csv').median()\n",
    "df1 = pd.read_csv('/data02/MyArchive/tomo_datasets/data_porosity_mapping_paper/time_logs/coarse2fine_2k_2.csv').median()\n",
    "df2 = pd.read_csv('/data02/MyArchive/tomo_datasets/data_porosity_mapping_paper/time_logs/coarse2fine_2k_4.csv').median()\n",
    "pd.concat([df0, df1,df2], axis = 1).T.set_index(\"b\")"
   ]
  },
  {
   "cell_type": "code",
   "execution_count": 4,
   "id": "56f4d37c",
   "metadata": {},
   "outputs": [
    {
     "data": {
      "text/plain": [
       "440"
      ]
     },
     "execution_count": 4,
     "metadata": {},
     "output_type": "execute_result"
    }
   ],
   "source": [
    "360+80"
   ]
  },
  {
   "cell_type": "code",
   "execution_count": 5,
   "id": "af702bcd",
   "metadata": {},
   "outputs": [
    {
     "data": {
      "text/plain": [
       "231.2"
      ]
     },
     "execution_count": 5,
     "metadata": {},
     "output_type": "execute_result"
    }
   ],
   "source": [
    "8.98+21.85+172.45+27.92"
   ]
  },
  {
   "cell_type": "code",
   "execution_count": 6,
   "id": "327ae301",
   "metadata": {},
   "outputs": [
    {
     "data": {
      "text/plain": [
       "1.9047619047619047"
      ]
     },
     "execution_count": 6,
     "metadata": {},
     "output_type": "execute_result"
    }
   ],
   "source": [
    "440/231"
   ]
  },
  {
   "cell_type": "code",
   "execution_count": null,
   "id": "35911ec6",
   "metadata": {},
   "outputs": [],
   "source": []
  },
  {
   "cell_type": "code",
   "execution_count": null,
   "id": "e4ccc89b",
   "metadata": {},
   "outputs": [],
   "source": []
  },
  {
   "cell_type": "code",
   "execution_count": null,
   "id": "da37b2fc",
   "metadata": {},
   "outputs": [],
   "source": []
  },
  {
   "cell_type": "code",
   "execution_count": null,
   "id": "9b508d38",
   "metadata": {},
   "outputs": [],
   "source": []
  },
  {
   "cell_type": "code",
   "execution_count": null,
   "id": "6c20d91f",
   "metadata": {},
   "outputs": [],
   "source": []
  },
  {
   "cell_type": "code",
   "execution_count": null,
   "id": "eb49f792",
   "metadata": {},
   "outputs": [],
   "source": []
  },
  {
   "cell_type": "code",
   "execution_count": null,
   "id": "6e888406",
   "metadata": {},
   "outputs": [],
   "source": []
  }
 ],
 "metadata": {
  "kernelspec": {
   "display_name": "tf2 cuda 112",
   "language": "python",
   "name": "tf2gpu"
  },
  "language_info": {
   "codemirror_mode": {
    "name": "ipython",
    "version": 3
   },
   "file_extension": ".py",
   "mimetype": "text/x-python",
   "name": "python",
   "nbconvert_exporter": "python",
   "pygments_lexer": "ipython3",
   "version": "3.9.12"
  }
 },
 "nbformat": 4,
 "nbformat_minor": 5
}
