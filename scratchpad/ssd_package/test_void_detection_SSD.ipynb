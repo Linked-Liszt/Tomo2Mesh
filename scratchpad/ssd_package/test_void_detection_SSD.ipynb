{
 "cells": [
  {
   "cell_type": "code",
   "execution_count": 1,
   "id": "a3b8aee4",
   "metadata": {},
   "outputs": [
    {
     "name": "stderr",
     "output_type": "stream",
     "text": [
      "Warning: dxfile module not found\n",
      "Warning: netCDF4 module not found\n",
      "spefile module not found\n",
      "netCDF4 module not found\n",
      "EdfFile module not found\n",
      "astropy module not found\n",
      "olefile module not found\n"
     ]
    }
   ],
   "source": [
    "import matplotlib.pyplot as plt\n",
    "import numpy as np\n",
    "from tomo2mesh.fbp.subset import recon_all_gpu\n",
    "from tomo2mesh import DataFile\n",
    "import dxchange\n",
    "from tomo2mesh import viewer\n",
    "import cupy as cp\n",
    "from tomo2mesh.misc.voxel_processing import modified_autocontrast\n",
    "from tomo2mesh.misc.viewer import add_scalebar\n",
    "from cupyx.scipy import ndimage\n",
    "from skimage.filters import threshold_otsu\n",
    "from cupyx.scipy.ndimage import binary_opening\n",
    "from tomo2mesh.structures.voids import Voids\n",
    "from tomo2mesh.misc.voxel_processing import TimerGPU\n",
    "from tomo2mesh.fbp.subset import recon_patches_3d"
   ]
  },
  {
   "cell_type": "code",
   "execution_count": 2,
   "id": "b38c199b",
   "metadata": {},
   "outputs": [],
   "source": [
    "def find_solder_bumps(projs, theta, center, b, b_K, pixel_size, approx_size):\n",
    "    t_gpu = TimerGPU(\"secs\")\n",
    "    memory_pool = cp.cuda.MemoryPool()\n",
    "    cp.cuda.set_allocator(memory_pool.malloc)\n",
    "\n",
    "    # fbp\n",
    "    t_gpu.tic()\n",
    "\n",
    "    raw_data = projs[::b_K,::b,::b], theta[::b_K,...], center/b\n",
    "    V = recon_all_gpu(*raw_data, dark_flat = (dark[::b,::b],flat[::b,::b]), sinogram_order=False)\n",
    "    V[:] = ndimage.gaussian_filter(V,0.5)    \n",
    "    \n",
    "    # binarize\n",
    "    voxel_values = V.reshape(-1).get()\n",
    "    rec_min_max = modified_autocontrast(voxel_values, s=0.01)\n",
    "    thresh = cp.float32(threshold_otsu(voxel_values))    \n",
    "    V[:] = (V>thresh).astype(cp.uint8)    \n",
    "    V[:] = binary_opening(V, structure = cp.ones((9,9,9), dtype = cp.uint8))    \n",
    "    t_rec = t_gpu.toc('COARSE RECON')\n",
    "\n",
    "    # connected components labeling\n",
    "    t_gpu.tic()\n",
    "    V = cp.array(V, dtype = cp.uint32)\n",
    "    V[:], n_det = ndimage.label(V,structure = cp.ones((3,3,3),dtype=cp.uint8))    \n",
    "    voids_b = Voids(pad_bb = 3).count_voids(V.get(), b, 0)    \n",
    "    voids_b.select_by_size(approx_size, pixel_size_um = pixel_size)\n",
    "    t_label = t_gpu.toc('LABELING')\n",
    "    \n",
    "    voids_b[\"rec_min_max\"] = rec_min_max\n",
    "    voids_b.compute_time = {\"reconstruction\" : t_rec, \"labeling\" : t_label}\n",
    "    voids_b[\"thresh_otsu\"] = thresh\n",
    "\n",
    "    del V\n",
    "    memory_pool.free_all_blocks()    \n",
    "    return voids_b"
   ]
  },
  {
   "cell_type": "code",
   "execution_count": 3,
   "id": "0befc5ed",
   "metadata": {},
   "outputs": [],
   "source": [
    "fpath = '/data02/MyArchive/tomo_datasets/Sigray_SSD/Tekawade_SSD_050.h5'\n",
    "# 3201, 2426, 3232\n",
    "center = 1615.5\n",
    "pixel_size = 0.6722679580997339\n",
    "b_K = 16\n",
    "b = 16\n",
    "projs, flat, dark, theta = dxchange.read_aps_32id(fpath)\n",
    "flat = np.median(flat, axis = 0).astype(np.float32)\n",
    "dark = np.median(dark, axis = 0).astype(np.float32)\n",
    "projs = projs.astype(np.float32)"
   ]
  },
  {
   "cell_type": "code",
   "execution_count": 4,
   "id": "4a90d929",
   "metadata": {},
   "outputs": [],
   "source": [
    "ntheta, nz, n = projs.shape\n",
    "projs = projs[:, :-int(nz%128), :-int(n%128)].copy()\n",
    "flat = flat[:-int(nz%128), :-int(n%128)].copy()\n",
    "dark = dark[:-int(nz%128), :-int(n%128)].copy()"
   ]
  },
  {
   "cell_type": "code",
   "execution_count": 5,
   "id": "54c60eb0",
   "metadata": {},
   "outputs": [
    {
     "name": "stdout",
     "output_type": "stream",
     "text": [
      "\tTIME: COARSE RECON 0.39 secs\n",
      "\tSTAT: voids found - 6\n",
      "\tSTAT: size thres: 4.65 pixel length for 50.00 um threshold\n",
      "\tTIME: LABELING 0.02 secs\n"
     ]
    }
   ],
   "source": [
    "bumps = find_solder_bumps(projs, theta, center, b, b_K, pixel_size, 50.0)"
   ]
  },
  {
   "cell_type": "code",
   "execution_count": 6,
   "id": "a08bbbef",
   "metadata": {},
   "outputs": [
    {
     "name": "stdout",
     "output_type": "stream",
     "text": [
      "\tTIME: compute void mesh 0.41 secs\n"
     ]
    }
   ],
   "source": [
    "surf = bumps.export_void_mesh_with_texture(\"sizes\")\n",
    "surf.write_ply('/data01/tmp_ply/SSD_vis.ply')"
   ]
  },
  {
   "cell_type": "code",
   "execution_count": 7,
   "id": "f45719bf",
   "metadata": {},
   "outputs": [
    {
     "name": "stdout",
     "output_type": "stream",
     "text": [
      "\tSTAT: 1/r value: 9.289\n"
     ]
    }
   ],
   "source": [
    "grid, r_fac = bumps.export_grid(32)"
   ]
  },
  {
   "cell_type": "code",
   "execution_count": 8,
   "id": "b4e357b2",
   "metadata": {},
   "outputs": [],
   "source": [
    "cp._default_memory_pool.free_all_blocks(); cp.fft.config.get_plan_cache().clear()"
   ]
  },
  {
   "cell_type": "code",
   "execution_count": 27,
   "id": "a5ab184d",
   "metadata": {},
   "outputs": [
    {
     "name": "stderr",
     "output_type": "stream",
     "text": [
      "100%|███████████████████████████████████████████| 51/51 [01:30<00:00,  1.77s/it]\n"
     ]
    }
   ],
   "source": [
    "x_grid, grid = recon_patches_3d(projs, theta, center, grid, sinogram_order=False)"
   ]
  },
  {
   "cell_type": "code",
   "execution_count": 28,
   "id": "3915a4ca",
   "metadata": {},
   "outputs": [
    {
     "data": {
      "text/plain": [
       "0.43301052"
      ]
     },
     "execution_count": 28,
     "metadata": {},
     "output_type": "execute_result"
    }
   ],
   "source": [
    "bumps[\"thresh_otsu\"]"
   ]
  },
  {
   "cell_type": "code",
   "execution_count": 29,
   "id": "83a28281",
   "metadata": {},
   "outputs": [],
   "source": [
    "# x_grid = (np.clip(x_grid, *bumps[\"rec_min_max\"]) - bumps[\"rec_min_max\"][0])/(bumps[\"rec_min_max\"][1] - bumps[\"rec_min_max\"][0])"
   ]
  },
  {
   "cell_type": "code",
   "execution_count": 30,
   "id": "e6f42bb9",
   "metadata": {},
   "outputs": [
    {
     "data": {
      "image/png": "[encoded data removed]",
      "text/plain": [
       "<Figure size 432x288 with 1 Axes>"
      ]
     },
     "metadata": {
      "needs_background": "light"
     },
     "output_type": "display_data"
    }
   ],
   "source": [
    "_ = plt.hist(x_grid[:,::2,::2,::2].reshape(-1), bins = 500)"
   ]
  },
  {
   "cell_type": "code",
   "execution_count": 31,
   "id": "7f90b7c0",
   "metadata": {},
   "outputs": [],
   "source": [
    "y_grid = (x_grid > bumps[\"thresh_otsu\"]).astype(np.uint8)"
   ]
  },
  {
   "cell_type": "code",
   "execution_count": 32,
   "id": "5c9aa6e9",
   "metadata": {},
   "outputs": [],
   "source": [
    "bumps_hr = Voids().import_from_grid(bumps, y_grid, grid)"
   ]
  },
  {
   "cell_type": "code",
   "execution_count": 33,
   "id": "8709fa29",
   "metadata": {},
   "outputs": [
    {
     "data": {
      "text/plain": [
       "6"
      ]
     },
     "execution_count": 33,
     "metadata": {},
     "output_type": "execute_result"
    }
   ],
   "source": [
    "len(bumps_hr)"
   ]
  },
  {
   "cell_type": "code",
   "execution_count": 37,
   "id": "2899aa0f",
   "metadata": {},
   "outputs": [
    {
     "data": {
      "text/plain": [
       "array([<AxesSubplot:>, <AxesSubplot:>, <AxesSubplot:>], dtype=object)"
      ]
     },
     "execution_count": 37,
     "metadata": {},
     "output_type": "execute_result"
    },
    {
     "data": {
      "image/png": "[encoded data removed]",
      "text/plain": [
       "<Figure size 432x288 with 3 Axes>"
      ]
     },
     "metadata": {
      "needs_background": "light"
     },
     "output_type": "display_data"
    }
   ],
   "source": [
    "viewer.view_midplanes(vol = bumps_hr[\"x_voids\"][1])"
   ]
  },
  {
   "cell_type": "code",
   "execution_count": 38,
   "id": "418f7828",
   "metadata": {},
   "outputs": [
    {
     "data": {
      "text/plain": [
       "array([<AxesSubplot:>, <AxesSubplot:>, <AxesSubplot:>], dtype=object)"
      ]
     },
     "execution_count": 38,
     "metadata": {},
     "output_type": "execute_result"
    },
    {
     "data": {
      "image/png": "[encoded data removed]",
      "text/plain": [
       "<Figure size 432x288 with 3 Axes>"
      ]
     },
     "metadata": {
      "needs_background": "light"
     },
     "output_type": "display_data"
    }
   ],
   "source": [
    "viewer.view_midplanes(vol = bumps[\"x_voids\"][1])"
   ]
  },
  {
   "cell_type": "code",
   "execution_count": null,
   "id": "323ce59b",
   "metadata": {},
   "outputs": [],
   "source": [
    "Vfill = np.empty((projs))\n",
    "grid.fill_patches_in_volume(x_grid, )"
   ]
  },
  {
   "cell_type": "code",
   "execution_count": null,
   "id": "6b1003f2",
   "metadata": {},
   "outputs": [],
   "source": []
  },
  {
   "cell_type": "code",
   "execution_count": null,
   "id": "33093df9",
   "metadata": {},
   "outputs": [],
   "source": []
  },
  {
   "cell_type": "code",
   "execution_count": null,
   "id": "78cd5670",
   "metadata": {},
   "outputs": [],
   "source": []
  },
  {
   "cell_type": "code",
   "execution_count": null,
   "id": "b2a60fec",
   "metadata": {},
   "outputs": [],
   "source": []
  },
  {
   "cell_type": "code",
   "execution_count": null,
   "id": "7eae9b65",
   "metadata": {},
   "outputs": [],
   "source": []
  },
  {
   "cell_type": "markdown",
   "id": "b541f3a3",
   "metadata": {},
   "source": [
    "##### "
   ]
  }
 ],
 "metadata": {
  "kernelspec": {
   "display_name": "tf2 cuda 112",
   "language": "python",
   "name": "tf2gpu"
  },
  "language_info": {
   "codemirror_mode": {
    "name": "ipython",
    "version": 3
   },
   "file_extension": ".py",
   "mimetype": "text/x-python",
   "name": "python",
   "nbconvert_exporter": "python",
   "pygments_lexer": "ipython3",
   "version": "3.9.12"
  }
 },
 "nbformat": 4,
 "nbformat_minor": 5
}
