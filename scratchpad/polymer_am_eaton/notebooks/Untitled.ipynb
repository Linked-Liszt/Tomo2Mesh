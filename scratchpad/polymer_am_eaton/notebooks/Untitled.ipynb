{
 "cells": [
  {
   "cell_type": "code",
   "execution_count": 1,
   "id": "b832d563",
   "metadata": {},
   "outputs": [],
   "source": [
    "import numpy as np\n",
    "from tomo2mesh.projects.eaton.rw_utils import read_raw_data_1X\n",
    "from tomo2mesh.projects.eaton.void_mapping import void_map_all\n"
   ]
  },
  {
   "cell_type": "code",
   "execution_count": 2,
   "id": "419d87eb",
   "metadata": {},
   "outputs": [],
   "source": [
    "projs, theta, center, dark, flat = read_raw_data_1X(\"1\", \"2\")"
   ]
  },
  {
   "cell_type": "code",
   "execution_count": 3,
   "id": "0e8f147c",
   "metadata": {},
   "outputs": [
    {
     "name": "stderr",
     "output_type": "stream",
     "text": [
      "100%|███████████████████████████████████████████| 36/36 [01:46<00:00,  2.97s/it]\n"
     ]
    },
    {
     "name": "stdout",
     "output_type": "stream",
     "text": [
      "\tTIME: RECONSTRUCTION 106.92 secs\n"
     ]
    }
   ],
   "source": [
    "V_seg = void_map_all(projs, theta, center, dark, flat, 1, 3.13, 0, 1151)"
   ]
  },
  {
   "cell_type": "code",
   "execution_count": 5,
   "id": "f0cc003a",
   "metadata": {},
   "outputs": [],
   "source": [
    "import cc3d\n",
    "from tomo2mesh.misc.voxel_processing import TimerCPU\n"
   ]
  },
  {
   "cell_type": "code",
   "execution_count": 6,
   "id": "0dc95a0e",
   "metadata": {},
   "outputs": [],
   "source": [
    "timer = TimerCPU(\"secs\")"
   ]
  },
  {
   "cell_type": "code",
   "execution_count": 16,
   "id": "6e365d43",
   "metadata": {},
   "outputs": [
    {
     "name": "stdout",
     "output_type": "stream",
     "text": [
      "\tTIME: using cc3d 24.96 secs\n"
     ]
    }
   ],
   "source": [
    "timer.tic()\n",
    "Vl_cc3d = cc3d.connected_components(V_seg)\n",
    "t_cc3d = timer.toc(\"using cc3d\")"
   ]
  },
  {
   "cell_type": "code",
   "execution_count": 19,
   "id": "d52196bc",
   "metadata": {},
   "outputs": [
    {
     "data": {
      "text/plain": [
       "206554"
      ]
     },
     "execution_count": 19,
     "metadata": {},
     "output_type": "execute_result"
    }
   ],
   "source": [
    "Vl_cc3d.max()"
   ]
  },
  {
   "cell_type": "code",
   "execution_count": 12,
   "id": "83efb73f",
   "metadata": {},
   "outputs": [],
   "source": [
    "from scipy.ndimage import label as label_cpu"
   ]
  },
  {
   "cell_type": "code",
   "execution_count": 14,
   "id": "12899efc",
   "metadata": {},
   "outputs": [
    {
     "name": "stdout",
     "output_type": "stream",
     "text": [
      "\tTIME: using ndimage 78.62 secs\n"
     ]
    }
   ],
   "source": [
    "timer.tic()\n",
    "Vl, n_det = label_cpu(V_seg,structure = np.ones((3,3,3),dtype=np.uint8))\n",
    "t_ndimage = timer.toc(\"using ndimage\")"
   ]
  },
  {
   "cell_type": "code",
   "execution_count": 15,
   "id": "ba13e491",
   "metadata": {},
   "outputs": [
    {
     "data": {
      "text/plain": [
       "206554"
      ]
     },
     "execution_count": 15,
     "metadata": {},
     "output_type": "execute_result"
    }
   ],
   "source": [
    "n_det"
   ]
  },
  {
   "cell_type": "code",
   "execution_count": 18,
   "id": "bca497f7",
   "metadata": {},
   "outputs": [
    {
     "data": {
      "text/plain": [
       "1e+00"
      ]
     },
     "execution_count": 18,
     "metadata": {},
     "output_type": "execute_result"
    }
   ],
   "source": [
    "np.sum(Vl_cc3d == Vl)/Vl.size"
   ]
  },
  {
   "cell_type": "code",
   "execution_count": null,
   "id": "c890278d",
   "metadata": {},
   "outputs": [],
   "source": []
  },
  {
   "cell_type": "code",
   "execution_count": null,
   "id": "4605759f",
   "metadata": {},
   "outputs": [],
   "source": []
  },
  {
   "cell_type": "code",
   "execution_count": null,
   "id": "3cab1c19",
   "metadata": {},
   "outputs": [],
   "source": []
  },
  {
   "cell_type": "code",
   "execution_count": null,
   "id": "7705f8b0",
   "metadata": {},
   "outputs": [],
   "source": []
  },
  {
   "cell_type": "code",
   "execution_count": null,
   "id": "484292ef",
   "metadata": {},
   "outputs": [],
   "source": []
  }
 ],
 "metadata": {
  "kernelspec": {
   "display_name": "Python 3 (ipykernel)",
   "language": "python",
   "name": "python3"
  },
  "language_info": {
   "codemirror_mode": {
    "name": "ipython",
    "version": 3
   },
   "file_extension": ".py",
   "mimetype": "text/x-python",
   "name": "python",
   "nbconvert_exporter": "python",
   "pygments_lexer": "ipython3",
   "version": "3.9.12"
  }
 },
 "nbformat": 4,
 "nbformat_minor": 5
}
