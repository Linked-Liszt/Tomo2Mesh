{
 "cells": [
  {
   "cell_type": "code",
   "execution_count": 1,
   "id": "b832d563",
   "metadata": {},
   "outputs": [],
   "source": [
    "import numpy as np\n",
    "from tomo2mesh.projects.eaton.rw_utils import read_raw_data_1X\n",
    "from tomo2mesh.projects.eaton.void_mapping import void_map_all\n"
   ]
  },
  {
   "cell_type": "code",
   "execution_count": 2,
   "id": "419d87eb",
   "metadata": {},
   "outputs": [],
   "source": [
    "projs, theta, center, dark, flat = read_raw_data_1X(\"1\", \"2\")"
   ]
  },
  {
   "cell_type": "code",
   "execution_count": 3,
   "id": "0e8f147c",
   "metadata": {},
   "outputs": [
    {
     "name": "stderr",
     "output_type": "stream",
     "text": [
      "100%|███████████████████████████████████████████| 36/36 [01:46<00:00,  2.97s/it]\n"
     ]
    },
    {
     "name": "stdout",
     "output_type": "stream",
     "text": [
      "\tTIME: RECONSTRUCTION 106.92 secs\n"
     ]
    }
   ],
   "source": [
    "V_seg = void_map_all(projs, theta, center, dark, flat, 1, 3.13, 0, 1151)"
   ]
  },
  {
   "cell_type": "code",
   "execution_count": 5,
   "id": "f0cc003a",
   "metadata": {},
   "outputs": [],
   "source": [
    "import cc3d\n",
    "from tomo2mesh.misc.voxel_processing import TimerCPU\n"
   ]
  },
  {
   "cell_type": "code",
   "execution_count": 6,
   "id": "0dc95a0e",
   "metadata": {},
   "outputs": [],
   "source": [
    "timer = TimerCPU(\"secs\")"
   ]
  },
  {
   "cell_type": "code",
   "execution_count": 16,
   "id": "6e365d43",
   "metadata": {},
   "outputs": [
    {
     "name": "stdout",
     "output_type": "stream",
     "text": [
      "\tTIME: using cc3d 24.96 secs\n"
     ]
    }
   ],
   "source": [
    "timer.tic()\n",
    "Vl_cc3d = cc3d.connected_components(V_seg)\n",
    "t_cc3d = timer.toc(\"using cc3d\")"
   ]
  },
  {
   "cell_type": "code",
   "execution_count": 19,
   "id": "d52196bc",
   "metadata": {},
   "outputs": [
    {
     "data": {
      "text/plain": [
       "206554"
      ]
     },
     "execution_count": 19,
     "metadata": {},
     "output_type": "execute_result"
    }
   ],
   "source": [
    "Vl_cc3d.max()"
   ]
  },
  {
   "cell_type": "code",
   "execution_count": 12,
   "id": "83efb73f",
   "metadata": {},
   "outputs": [],
   "source": [
    "from scipy.ndimage import label as label_cpu"
   ]
  },
  {
   "cell_type": "code",
   "execution_count": 14,
   "id": "12899efc",
   "metadata": {},
   "outputs": [
    {
     "name": "stdout",
     "output_type": "stream",
     "text": [
      "\tTIME: using ndimage 78.62 secs\n"
     ]
    }
   ],
   "source": [
    "timer.tic()\n",
    "Vl, n_det = label_cpu(V_seg,structure = np.ones((3,3,3),dtype=np.uint8))\n",
    "t_ndimage = timer.toc(\"using ndimage\")"
   ]
  },
  {
   "cell_type": "code",
   "execution_count": 15,
   "id": "ba13e491",
   "metadata": {},
   "outputs": [
    {
     "data": {
      "text/plain": [
       "206554"
      ]
     },
     "execution_count": 15,
     "metadata": {},
     "output_type": "execute_result"
    }
   ],
   "source": [
    "n_det"
   ]
  },
  {
   "cell_type": "code",
   "execution_count": 18,
   "id": "bca497f7",
   "metadata": {},
   "outputs": [
    {
     "data": {
      "text/plain": [
       "1e+00"
      ]
     },
     "execution_count": 18,
     "metadata": {},
     "output_type": "execute_result"
    }
   ],
   "source": [
    "np.sum(Vl_cc3d == Vl)/Vl.size"
   ]
  },
  {
   "cell_type": "code",
   "execution_count": 5,
   "id": "c890278d",
   "metadata": {},
   "outputs": [
    {
     "name": "stdout",
     "output_type": "stream",
     "text": [
      "0\n",
      "100\n",
      "1\n",
      "101\n",
      "2\n",
      "102\n",
      "3\n",
      "103\n",
      "4\n",
      "104\n",
      "5\n",
      "105\n"
     ]
    }
   ],
   "source": [
    "start_layer = 100\n",
    "end_layer = 105\n",
    "for ii, layer in enumerate(range(start_layer, end_layer+1)): \n",
    "    print(ii)\n",
    "    print(layer)"
   ]
  },
  {
   "cell_type": "code",
   "execution_count": 60,
   "id": "4605759f",
   "metadata": {},
   "outputs": [
    {
     "name": "stderr",
     "output_type": "stream",
     "text": [
      "/tmp/ipykernel_31646/4142784488.py:3: VisibleDeprecationWarning: Creating an ndarray from ragged nested sequences (which is a list-or-tuple of lists-or-tuples-or ndarrays with different lengths or shapes) is deprecated. If you meant to do this, you must specify 'dtype=object' when creating the ndarray.\n",
      "  V_seg = np.array([np.random.randint(0, 100, size=(3, 3, 3)),np.random.randint(0, 100, size=(4, 4, 4)),np.random.randint(0, 100, size=(5, 5, 5))])\n"
     ]
    },
    {
     "data": {
      "text/plain": [
       "5732"
      ]
     },
     "execution_count": 60,
     "metadata": {},
     "output_type": "execute_result"
    }
   ],
   "source": [
    "import numpy as np\n",
    "dust_thresh = 4\n",
    "V_seg = np.array([np.random.randint(0, 100, size=(3, 3, 3)),np.random.randint(0, 100, size=(4, 4, 4)),np.random.randint(0, 100, size=(5, 5, 5))])\n",
    "[np.sum(i) for i in V_seg if np.all(np.clip(i.shape-np.array((dust_thresh,dust_thresh,dust_thresh)), 0, None))==True][0]\n"
   ]
  },
  {
   "cell_type": "code",
   "execution_count": 52,
   "id": "3cab1c19",
   "metadata": {},
   "outputs": [
    {
     "name": "stderr",
     "output_type": "stream",
     "text": [
      "/tmp/ipykernel_31646/1485280358.py:1: VisibleDeprecationWarning: Creating an ndarray from ragged nested sequences (which is a list-or-tuple of lists-or-tuples-or ndarrays with different lengths or shapes) is deprecated. If you meant to do this, you must specify 'dtype=object' when creating the ndarray.\n",
      "  V_seg = np.array([np.random.randint(0, 100, size=(3, 3, 3)),np.random.randint(0, 100, size=(4, 4, 4)),np.random.randint(0, 100, size=(5, 5, 5))])\n"
     ]
    },
    {
     "data": {
      "text/plain": [
       "array([[[73, 58, 69],\n",
       "        [16, 54, 95],\n",
       "        [57, 17, 66]],\n",
       "\n",
       "       [[20, 97,  4],\n",
       "        [66, 69, 43],\n",
       "        [94, 97, 54]],\n",
       "\n",
       "       [[49, 87, 56],\n",
       "        [94, 20, 14],\n",
       "        [ 4, 19,  7]]])"
      ]
     },
     "execution_count": 52,
     "metadata": {},
     "output_type": "execute_result"
    }
   ],
   "source": [
    "V_seg = np.array([np.random.randint(0, 100, size=(3, 3, 3)),np.random.randint(0, 100, size=(4, 4, 4)),np.random.randint(0, 100, size=(5, 5, 5))])\n",
    "V_seg[0]\n"
   ]
  },
  {
   "cell_type": "code",
   "execution_count": 40,
   "id": "7705f8b0",
   "metadata": {},
   "outputs": [
    {
     "data": {
      "text/plain": [
       "False"
      ]
     },
     "execution_count": 40,
     "metadata": {},
     "output_type": "execute_result"
    }
   ],
   "source": [
    "np.all(np.clip(V_seg.shape-np.array((dust_thresh,dust_thresh,dust_thresh)), 0, None))"
   ]
  },
  {
   "cell_type": "code",
   "execution_count": 59,
   "id": "484292ef",
   "metadata": {},
   "outputs": [
    {
     "name": "stdout",
     "output_type": "stream",
     "text": [
      "[[0 0 0 1 1 1 1 0 0 1]\n",
      " [0 0 1 0 1 0 0 0 1 1]\n",
      " [0 1 0 0 1 1 0 0 0 1]\n",
      " [0 0 1 0 0 1 1 1 0 0]\n",
      " [1 0 1 1 0 1 0 1 0 0]\n",
      " [1 0 0 0 1 1 1 1 0 0]\n",
      " [1 0 0 0 1 1 0 1 0 1]\n",
      " [0 1 0 1 1 0 1 0 0 1]\n",
      " [1 1 0 1 1 0 0 0 1 0]\n",
      " [0 0 0 0 0 1 0 0 0 0]] \n",
      "\n",
      "[[0 0 0 1 1 1 1 0 0 2]\n",
      " [0 0 1 0 1 0 0 0 2 2]\n",
      " [0 1 0 0 1 1 0 0 0 2]\n",
      " [0 0 1 0 0 1 1 1 0 0]\n",
      " [3 0 1 1 0 1 0 1 0 0]\n",
      " [3 0 0 0 1 1 1 1 0 0]\n",
      " [3 0 0 0 1 1 0 1 0 4]\n",
      " [0 3 0 1 1 0 1 0 0 4]\n",
      " [3 3 0 1 1 0 0 0 4 0]\n",
      " [0 0 0 0 0 1 0 0 0 0]] \n",
      "\n",
      "[[0 0 0 1 1 1 1 0 0 2]\n",
      " [0 0 0 0 1 0 0 0 2 2]\n",
      " [0 0 0 0 1 1 0 0 0 2]\n",
      " [0 0 0 0 0 1 1 1 0 0]\n",
      " [0 0 0 0 0 1 0 1 0 0]\n",
      " [0 0 0 0 1 1 1 1 0 0]\n",
      " [0 0 0 0 1 1 0 1 0 0]\n",
      " [0 0 0 1 1 0 0 0 0 0]\n",
      " [0 0 0 1 1 0 0 0 0 0]\n",
      " [0 0 0 0 0 0 0 0 0 0]] \n",
      "\n",
      "[[0 0 0 1 1 1 1 0 0 1]\n",
      " [0 0 0 0 1 0 0 0 1 1]\n",
      " [0 0 0 0 1 1 0 0 0 1]\n",
      " [0 0 0 0 0 1 1 1 0 0]\n",
      " [0 0 0 0 0 1 0 1 0 0]\n",
      " [0 0 0 0 1 1 1 1 0 0]\n",
      " [0 0 0 0 1 1 0 1 0 0]\n",
      " [0 0 0 1 1 0 0 0 0 0]\n",
      " [0 0 0 1 1 0 0 0 0 0]\n",
      " [0 0 0 0 0 0 0 0 0 0]] \n",
      "\n"
     ]
    }
   ],
   "source": [
    "import numpy as np\n",
    "import cc3d\n",
    "Vr = np.random.randint(0,2,(10,10))\n",
    "print(Vr, \"\\n\")\n",
    "V = cc3d.connected_components(Vr)\n",
    "print(V, \"\\n\")\n",
    "V = cc3d.dust(V, threshold = 4, connectivity=4)\n",
    "print(V, \"\\n\")\n",
    "V = (V>0).astype(np.uint8)\n",
    "print(V, \"\\n\")"
   ]
  },
  {
   "cell_type": "code",
   "execution_count": 23,
   "id": "4bde9535",
   "metadata": {},
   "outputs": [
    {
     "data": {
      "text/plain": [
       "(512, 512)"
      ]
     },
     "execution_count": 23,
     "metadata": {},
     "output_type": "execute_result"
    }
   ],
   "source": [
    "V[1].shape"
   ]
  },
  {
   "cell_type": "code",
   "execution_count": 35,
   "id": "8860bb43",
   "metadata": {},
   "outputs": [
    {
     "name": "stdout",
     "output_type": "stream",
     "text": [
      "[[1 1 1 0 1 1 1 1 0 0]\n",
      " [1 1 0 1 1 1 1 0 0 1]\n",
      " [1 0 0 0 1 1 0 0 1 0]\n",
      " [1 0 1 0 1 0 0 0 0 1]\n",
      " [0 1 0 0 0 0 1 1 1 0]\n",
      " [1 1 0 1 0 0 1 1 1 1]\n",
      " [1 1 0 0 1 0 1 0 1 1]\n",
      " [1 1 0 1 0 1 1 1 1 0]\n",
      " [0 0 0 0 0 1 0 1 1 1]\n",
      " [0 1 1 1 1 1 0 1 1 1]]\n",
      "[[ 1  1  1  0  2  2  2  2  0  0]\n",
      " [ 1  1  0  2  2  2  2  0  0  3]\n",
      " [ 1  0  0  0  2  2  0  0  4  0]\n",
      " [ 1  0  5  0  2  0  0  0  0  6]\n",
      " [ 0  7  0  0  0  0  8  8  8  0]\n",
      " [ 7  7  0  9  0  0  8  8  8  8]\n",
      " [ 7  7  0  0 10  0  8  0  8  8]\n",
      " [ 7  7  0 11  0  8  8  8  8  0]\n",
      " [ 0  0  0  0  0  8  0  8  8  8]\n",
      " [ 0  8  8  8  8  8  0  8  8  8]]\n"
     ]
    }
   ],
   "source": [
    "from scipy import ndimage as ndimage_cpu\n",
    "V = np.random.randint(0,2,(10,10))\n",
    "print(V)\n",
    "V,a = ndimage_cpu.label(V)\n",
    "print(V)"
   ]
  },
  {
   "cell_type": "code",
   "execution_count": null,
   "id": "d0e27247",
   "metadata": {},
   "outputs": [],
   "source": []
  }
 ],
 "metadata": {
  "kernelspec": {
   "display_name": "Python 3 (ipykernel)",
   "language": "python",
   "name": "python3"
  },
  "language_info": {
   "codemirror_mode": {
    "name": "ipython",
    "version": 3
   },
   "file_extension": ".py",
   "mimetype": "text/x-python",
   "name": "python",
   "nbconvert_exporter": "python",
   "pygments_lexer": "ipython3",
   "version": "3.9.12"
  }
 },
 "nbformat": 4,
 "nbformat_minor": 5
}
