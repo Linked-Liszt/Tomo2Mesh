{
 "cells": [
  {
   "cell_type": "code",
   "execution_count": 10,
   "metadata": {},
   "outputs": [],
   "source": [
    "import numpy as np\n",
    "import sys\n",
    "sys.path.append('/data01/AMPolyCalc/code')\n",
    "from void_params import fit_ellipsoid, _edge_map\n",
    "from rw_utils import read_raw_data_1X\n",
    "from params import pixel_size_1X as pixel_size\n",
    "from void_mapping import void_map_gpu\n",
    "from tomo_encoders.misc.feret_diameter import max_feret_dm\n",
    "import time\n",
    "from tomo_encoders.misc import viewer"
   ]
  },
  {
   "cell_type": "code",
   "execution_count": 2,
   "metadata": {},
   "outputs": [
    {
     "name": "stdout",
     "output_type": "stream",
     "text": [
      "\tTIME: RECONSTRUCTION 3.53 secs\n",
      "\tSTAT: voids found - 26530\n",
      "\tTIME: LABELING 2.86 secs\n"
     ]
    }
   ],
   "source": [
    "projs, theta, center, dark, flat = read_raw_data_1X(\"1\", \"1\")\n",
    "b = 4\n",
    "voids_4 = void_map_gpu(projs, theta, center, dark, flat, b, pixel_size)\n",
    "#voids_4.sort_by_size(reverse=True)"
   ]
  },
  {
   "cell_type": "code",
   "execution_count": null,
   "metadata": {},
   "outputs": [
    {
     "name": "stderr",
     "output_type": "stream",
     "text": [
      "  0%|▏                                      | 128/26530 [00:13<29:53, 14.72it/s]"
     ]
    }
   ],
   "source": [
    "x_voids = voids_4[\"x_voids\"]\n",
    "\n",
    "info = []\n",
    "start = time.time()\n",
    "for i in range(len(x_voids)):\n",
    "    st = time.time()\n",
    "    print(f'shape: {x_voids.shape[i]}; volume enc: {np.sum(x_voids[i])}')\n",
    "    info.append(max_feret_dm(x_voids[i]))\n",
    "    en = time.time()\n",
    "    print(f'info: {info}')\n",
    "    print(f'time: {en-st} secs')\n",
    "\n",
    "end = time.time()\n",
    "print(\"Time:\", end-start)"
   ]
  },
  {
   "cell_type": "code",
   "execution_count": null,
   "metadata": {},
   "outputs": [],
   "source": []
  },
  {
   "cell_type": "code",
   "execution_count": null,
   "metadata": {},
   "outputs": [],
   "source": []
  },
  {
   "cell_type": "code",
   "execution_count": null,
   "metadata": {},
   "outputs": [],
   "source": []
  },
  {
   "cell_type": "code",
   "execution_count": null,
   "metadata": {},
   "outputs": [],
   "source": []
  },
  {
   "cell_type": "code",
   "execution_count": null,
   "metadata": {},
   "outputs": [],
   "source": []
  },
  {
   "cell_type": "code",
   "execution_count": null,
   "metadata": {},
   "outputs": [],
   "source": []
  },
  {
   "cell_type": "code",
   "execution_count": null,
   "metadata": {},
   "outputs": [],
   "source": []
  }
 ],
 "metadata": {
  "interpreter": {
   "hash": "622acb3f3c0a44912b7ee15ea5635888f1446cadb9842bc2dd0e64039bfaa98c"
  },
  "kernelspec": {
   "display_name": "Python 3 (ipykernel)",
   "language": "python",
   "name": "python3"
  },
  "language_info": {
   "codemirror_mode": {
    "name": "ipython",
    "version": 3
   },
   "file_extension": ".py",
   "mimetype": "text/x-python",
   "name": "python",
   "nbconvert_exporter": "python",
   "pygments_lexer": "ipython3",
   "version": "3.9.12"
  }
 },
 "nbformat": 4,
 "nbformat_minor": 2
}
