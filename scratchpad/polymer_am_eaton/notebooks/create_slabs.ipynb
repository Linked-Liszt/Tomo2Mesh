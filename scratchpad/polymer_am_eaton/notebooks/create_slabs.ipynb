{
 "cells": [
  {
   "cell_type": "code",
   "execution_count": 1,
   "id": "adfd1754",
   "metadata": {},
   "outputs": [],
   "source": [
    "import numpy as np\n",
    "from scipy.spatial.distance import pdist\n",
    "import matplotlib.pyplot as plt\n",
    "import time\n",
    "import pandas as pd\n",
    "\n",
    "import sys\n",
    "sys.path.append(\"/data01/Tomo2Mesh/scratchpad/polymer_am_eaton/code\")\n",
    "from rw_utils import read_raw_data_1X\n",
    "from void_mapping import void_map_gpu\n",
    "from params import pixel_size_1X as pixel_size\n",
    "from tomo2mesh.misc.num_density import num_density\n",
    "from params import save_path\n",
    "from tomo2mesh.structures.voids import VoidLayers"
   ]
  },
  {
   "cell_type": "code",
   "execution_count": 9,
   "id": "5b6ef31c",
   "metadata": {},
   "outputs": [],
   "source": [
    "b = 4\n",
    "num_layers = 5\n",
    "sample_tag = 2\n",
    "z_max = []\n",
    "voids_list = []\n",
    "voids_all = VoidLayers()\n",
    "rdf = pd.read_csv(save_path)\n",
    "\n",
    "y_pos_list = []\n",
    "for layer in range(1,1+num_layers):\n",
    "    info = rdf[(rdf[\"sample_num\"] == int(sample_tag)) & (rdf[\"layer\"] == int(layer))].iloc[0]\n",
    "    y_pos_list.append(info['sample_y'])\n",
    "\n",
    "y_pos_list = np.asarray(y_pos_list)*1.0e3/(pixel_size*b)\n",
    "y_pos_list = y_pos_list - y_pos_list[0]\n",
    "z_max = np.uint32(np.diff(y_pos_list))\n"
   ]
  },
  {
   "cell_type": "code",
   "execution_count": 10,
   "id": "caf6a565",
   "metadata": {},
   "outputs": [],
   "source": [
    "# adjust cents, cpts with y_pos\n",
    "# clip z values to last 50 (lower clip), first 50 (upper clip)"
   ]
  },
  {
   "cell_type": "code",
   "execution_count": 11,
   "id": "d496084b",
   "metadata": {},
   "outputs": [
    {
     "name": "stderr",
     "output_type": "stream",
     "text": [
      "/data01/Tomo2Mesh/scratchpad/polymer_am_eaton/code/recon.py:91: FutureWarning: cupy.fft.cache.clear_plan_cache is experimental. The interface can change in the future.\n",
      "  cp.fft.config.clear_plan_cache()\n"
     ]
    },
    {
     "ename": "OutOfMemoryError",
     "evalue": "Out of memory allocating 4,230,144,000 bytes (allocated so far: 0 bytes).",
     "output_type": "error",
     "traceback": [
      "\u001b[0;31m---------------------------------------------------------------------------\u001b[0m",
      "\u001b[0;31mOutOfMemoryError\u001b[0m                          Traceback (most recent call last)",
      "Input \u001b[0;32mIn [11]\u001b[0m, in \u001b[0;36m<cell line: 1>\u001b[0;34m()\u001b[0m\n\u001b[1;32m      3\u001b[0m     projs, theta, center, dark, flat \u001b[38;5;241m=\u001b[39m read_raw_data_1X(sample_tag, layer)\n\u001b[1;32m      4\u001b[0m     \u001b[38;5;66;03m#voids.select_by_size(200, pixel_size_um = pixel_size) # remove later\u001b[39;00m\n\u001b[0;32m----> 5\u001b[0m     voids \u001b[38;5;241m=\u001b[39m \u001b[43mvoid_map_gpu\u001b[49m\u001b[43m(\u001b[49m\u001b[43mprojs\u001b[49m\u001b[43m,\u001b[49m\u001b[43m \u001b[49m\u001b[43mtheta\u001b[49m\u001b[43m,\u001b[49m\u001b[43m \u001b[49m\u001b[43mcenter\u001b[49m\u001b[43m,\u001b[49m\u001b[43m \u001b[49m\u001b[43mdark\u001b[49m\u001b[43m,\u001b[49m\u001b[43m \u001b[49m\u001b[43mflat\u001b[49m\u001b[43m,\u001b[49m\u001b[43m \u001b[49m\u001b[43mb\u001b[49m\u001b[43m,\u001b[49m\u001b[43m \u001b[49m\u001b[43mpixel_size\u001b[49m\u001b[43m)\u001b[49m\n\u001b[1;32m      6\u001b[0m \u001b[38;5;66;03m#     if layer == 6 or layer == 12:\u001b[39;00m\n\u001b[1;32m      7\u001b[0m \u001b[38;5;66;03m#         voids.select_z_slab(0,286)\u001b[39;00m\n\u001b[1;32m      8\u001b[0m \u001b[38;5;66;03m#     else:\u001b[39;00m\n\u001b[1;32m      9\u001b[0m \u001b[38;5;66;03m#         voids.select_z_slab(0,50)\u001b[39;00m\n\u001b[1;32m     10\u001b[0m     voids\u001b[38;5;241m.\u001b[39mselect_z_slab(\u001b[38;5;241m0\u001b[39m,\u001b[38;5;241m50\u001b[39m)\n",
      "File \u001b[0;32m/data01/Tomo2Mesh/scratchpad/polymer_am_eaton/code/void_mapping.py:22\u001b[0m, in \u001b[0;36mvoid_map_gpu\u001b[0;34m(projs, theta, center, dark, flat, b, pixel_size)\u001b[0m\n\u001b[1;32m     20\u001b[0m \u001b[38;5;66;03m# fbp\u001b[39;00m\n\u001b[1;32m     21\u001b[0m t_gpu\u001b[38;5;241m.\u001b[39mtic()\n\u001b[0;32m---> 22\u001b[0m V \u001b[38;5;241m=\u001b[39m \u001b[43mrecon_binned\u001b[49m\u001b[43m(\u001b[49m\u001b[43mprojs\u001b[49m\u001b[43m,\u001b[49m\u001b[43m \u001b[49m\u001b[43mtheta\u001b[49m\u001b[43m,\u001b[49m\u001b[43m \u001b[49m\u001b[43mcenter\u001b[49m\u001b[43m,\u001b[49m\u001b[43m \u001b[49m\u001b[43mdark\u001b[49m\u001b[43m,\u001b[49m\u001b[43m \u001b[49m\u001b[43mflat\u001b[49m\u001b[43m,\u001b[49m\u001b[43m \u001b[49m\u001b[43mb\u001b[49m\u001b[43m,\u001b[49m\u001b[43m \u001b[49m\u001b[43mpixel_size\u001b[49m\u001b[43m)\u001b[49m\n\u001b[1;32m     23\u001b[0m V[:] \u001b[38;5;241m=\u001b[39m ndimage\u001b[38;5;241m.\u001b[39mgaussian_filter(V,\u001b[38;5;241m0.5\u001b[39m)\n\u001b[1;32m     25\u001b[0m \u001b[38;5;66;03m# binarize\u001b[39;00m\n",
      "File \u001b[0;32m/data01/Tomo2Mesh/scratchpad/polymer_am_eaton/code/recon.py:97\u001b[0m, in \u001b[0;36mrecon_binned\u001b[0;34m(projs, theta, center, dark, flat, b, pixel_size)\u001b[0m\n\u001b[1;32m     94\u001b[0m \u001b[38;5;28;01mwith\u001b[39;00m stream:\n\u001b[1;32m     96\u001b[0m     ntheta, nz, n \u001b[38;5;241m=\u001b[39m projs\u001b[38;5;241m.\u001b[39mshape\n\u001b[0;32m---> 97\u001b[0m     data \u001b[38;5;241m=\u001b[39m \u001b[43mcp\u001b[49m\u001b[38;5;241;43m.\u001b[39;49m\u001b[43marray\u001b[49m\u001b[43m(\u001b[49m\u001b[43mprojs\u001b[49m\u001b[43m,\u001b[49m\u001b[43m \u001b[49m\u001b[43mdtype\u001b[49m\u001b[43m \u001b[49m\u001b[38;5;241;43m=\u001b[39;49m\u001b[43m \u001b[49m\u001b[43mcp\u001b[49m\u001b[38;5;241;43m.\u001b[39;49m\u001b[43muint8\u001b[49m\u001b[43m)\u001b[49m\n\u001b[1;32m     98\u001b[0m     data \u001b[38;5;241m=\u001b[39m cp\u001b[38;5;241m.\u001b[39mmean(data\u001b[38;5;241m.\u001b[39mreshape(ntheta,nz\u001b[38;5;241m/\u001b[39m\u001b[38;5;241m/\u001b[39mb,b,n\u001b[38;5;241m/\u001b[39m\u001b[38;5;241m/\u001b[39mb,b), axis \u001b[38;5;241m=\u001b[39m (\u001b[38;5;241m2\u001b[39m,\u001b[38;5;241m4\u001b[39m), dtype \u001b[38;5;241m=\u001b[39m cp\u001b[38;5;241m.\u001b[39muint8)\n\u001b[1;32m    100\u001b[0m     data \u001b[38;5;241m=\u001b[39m cp\u001b[38;5;241m.\u001b[39marray(data, dtype \u001b[38;5;241m=\u001b[39m cp\u001b[38;5;241m.\u001b[39mfloat32)\n",
      "File \u001b[0;32m~/ENTER/envs/tf2GPU/lib/python3.9/site-packages/cupy/_creation/from_data.py:46\u001b[0m, in \u001b[0;36marray\u001b[0;34m(obj, dtype, copy, order, subok, ndmin)\u001b[0m\n\u001b[1;32m      7\u001b[0m \u001b[38;5;28;01mdef\u001b[39;00m \u001b[38;5;21marray\u001b[39m(obj, dtype\u001b[38;5;241m=\u001b[39m\u001b[38;5;28;01mNone\u001b[39;00m, copy\u001b[38;5;241m=\u001b[39m\u001b[38;5;28;01mTrue\u001b[39;00m, order\u001b[38;5;241m=\u001b[39m\u001b[38;5;124m'\u001b[39m\u001b[38;5;124mK\u001b[39m\u001b[38;5;124m'\u001b[39m, subok\u001b[38;5;241m=\u001b[39m\u001b[38;5;28;01mFalse\u001b[39;00m, ndmin\u001b[38;5;241m=\u001b[39m\u001b[38;5;241m0\u001b[39m):\n\u001b[1;32m      8\u001b[0m     \u001b[38;5;124;03m\"\"\"Creates an array on the current device.\u001b[39;00m\n\u001b[1;32m      9\u001b[0m \n\u001b[1;32m     10\u001b[0m \u001b[38;5;124;03m    This function currently does not support the ``subok`` option.\u001b[39;00m\n\u001b[0;32m   (...)\u001b[0m\n\u001b[1;32m     44\u001b[0m \n\u001b[1;32m     45\u001b[0m \u001b[38;5;124;03m    \"\"\"\u001b[39;00m\n\u001b[0;32m---> 46\u001b[0m     \u001b[38;5;28;01mreturn\u001b[39;00m \u001b[43m_core\u001b[49m\u001b[38;5;241;43m.\u001b[39;49m\u001b[43marray\u001b[49m\u001b[43m(\u001b[49m\u001b[43mobj\u001b[49m\u001b[43m,\u001b[49m\u001b[43m \u001b[49m\u001b[43mdtype\u001b[49m\u001b[43m,\u001b[49m\u001b[43m \u001b[49m\u001b[43mcopy\u001b[49m\u001b[43m,\u001b[49m\u001b[43m \u001b[49m\u001b[43morder\u001b[49m\u001b[43m,\u001b[49m\u001b[43m \u001b[49m\u001b[43msubok\u001b[49m\u001b[43m,\u001b[49m\u001b[43m \u001b[49m\u001b[43mndmin\u001b[49m\u001b[43m)\u001b[49m\n",
      "File \u001b[0;32mcupy/_core/core.pyx:2250\u001b[0m, in \u001b[0;36mcupy._core.core.array\u001b[0;34m()\u001b[0m\n",
      "File \u001b[0;32mcupy/_core/core.pyx:2271\u001b[0m, in \u001b[0;36mcupy._core.core.array\u001b[0;34m()\u001b[0m\n",
      "File \u001b[0;32mcupy/_core/core.pyx:2403\u001b[0m, in \u001b[0;36mcupy._core.core._array_default\u001b[0;34m()\u001b[0m\n",
      "File \u001b[0;32mcupy/_core/core.pyx:171\u001b[0m, in \u001b[0;36mcupy._core.core.ndarray.__init__\u001b[0;34m()\u001b[0m\n",
      "File \u001b[0;32mcupy/cuda/memory.pyx:698\u001b[0m, in \u001b[0;36mcupy.cuda.memory.alloc\u001b[0;34m()\u001b[0m\n",
      "File \u001b[0;32mcupy/cuda/memory.pyx:1375\u001b[0m, in \u001b[0;36mcupy.cuda.memory.MemoryPool.malloc\u001b[0;34m()\u001b[0m\n",
      "File \u001b[0;32mcupy/cuda/memory.pyx:1396\u001b[0m, in \u001b[0;36mcupy.cuda.memory.MemoryPool.malloc\u001b[0;34m()\u001b[0m\n",
      "File \u001b[0;32mcupy/cuda/memory.pyx:1076\u001b[0m, in \u001b[0;36mcupy.cuda.memory.SingleDeviceMemoryPool.malloc\u001b[0;34m()\u001b[0m\n",
      "File \u001b[0;32mcupy/cuda/memory.pyx:1097\u001b[0m, in \u001b[0;36mcupy.cuda.memory.SingleDeviceMemoryPool._malloc\u001b[0;34m()\u001b[0m\n",
      "File \u001b[0;32mcupy/cuda/memory.pyx:1335\u001b[0m, in \u001b[0;36mcupy.cuda.memory.SingleDeviceMemoryPool._try_malloc\u001b[0;34m()\u001b[0m\n",
      "\u001b[0;31mOutOfMemoryError\u001b[0m: Out of memory allocating 4,230,144,000 bytes (allocated so far: 0 bytes)."
     ]
    }
   ],
   "source": [
    "for i in range(num_layers):\n",
    "    layer = i+1\n",
    "    projs, theta, center, dark, flat = read_raw_data_1X(sample_tag, layer)\n",
    "    #voids.select_by_size(200, pixel_size_um = pixel_size) # remove later\n",
    "    voids = void_map_gpu(projs, theta, center, dark, flat, b, pixel_size)\n",
    "#     if layer == 6 or layer == 12:\n",
    "#         voids.select_z_slab(0,286)\n",
    "#     else:\n",
    "#         voids.select_z_slab(0,50)\n",
    "    voids.select_z_slab(0,50)\n",
    "    voids.calc_max_feret_dm()\n",
    "    surf = voids.export_void_mesh_with_texture(\"sizes\")\n",
    "    surf.write_ply(f'/data01/Eaton_Polymer_AM/ply_files/sample{sample_tag}_layer{layer}_top_slabs.ply')\n",
    "    print(layer)\n",
    "    print(\"added a layer\")\n",
    "    "
   ]
  },
  {
   "cell_type": "code",
   "execution_count": null,
   "id": "cd6e951b",
   "metadata": {},
   "outputs": [],
   "source": [
    "for i in range(num_layers):\n",
    "    layer = i + 1\n",
    "    projs, theta, center, dark, flat = read_raw_data_1X(sample_tag, layer)\n",
    "    #voids.select_by_size(200, pixel_size_um = pixel_size) # remove later\n",
    "    voids = void_map_gpu(projs, theta, center, dark, flat, b, pixel_size)\n",
    "#     if layer == 6 or layer == 12:\n",
    "#         voids.select_z_slab(0,286)\n",
    "#     else:\n",
    "#         voids.select_z_slab(236,286)\n",
    "    voids.select_z_slab(236,286)\n",
    "    voids.calc_max_feret_dm()\n",
    "    surf = voids.export_void_mesh_with_texture(\"sizes\")\n",
    "    surf.write_ply(f'/data01/Eaton_Polymer_AM/ply_files/sample{sample_tag}_layer{layer}_bottom_slabs.ply')\n",
    "    print(layer)\n",
    "    print(\"added a layer\")\n",
    "    "
   ]
  },
  {
   "cell_type": "code",
   "execution_count": null,
   "id": "f3fce535",
   "metadata": {},
   "outputs": [],
   "source": []
  }
 ],
 "metadata": {
  "kernelspec": {
   "display_name": "Python 3 (ipykernel)",
   "language": "python",
   "name": "python3"
  },
  "language_info": {
   "codemirror_mode": {
    "name": "ipython",
    "version": 3
   },
   "file_extension": ".py",
   "mimetype": "text/x-python",
   "name": "python",
   "nbconvert_exporter": "python",
   "pygments_lexer": "ipython3",
   "version": "3.9.12"
  }
 },
 "nbformat": 4,
 "nbformat_minor": 5
}
