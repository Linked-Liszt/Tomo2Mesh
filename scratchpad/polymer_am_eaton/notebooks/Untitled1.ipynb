{
 "cells": [
  {
   "cell_type": "code",
   "execution_count": 1,
   "id": "602bcfd6",
   "metadata": {},
   "outputs": [],
   "source": [
    "from operator import mod\n",
    "from tomo2mesh.misc.voxel_processing import TimerGPU, edge_map, modified_autocontrast, get_values_cyl_mask, cylindrical_mask, TimerCPU\n",
    "from tomo2mesh.projects.eaton.recon import recon_binned, recon_all\n",
    "from tomo2mesh.structures.patches import Patches\n",
    "import cupy as cp\n",
    "import numpy as np\n",
    "import pandas as pd\n",
    "from tomo2mesh.structures.voids import Voids\n",
    "from skimage.filters import threshold_otsu\n",
    "from cupyx.scipy import ndimage\n",
    "from scipy import ndimage as ndimage_cpu\n",
    "import cc3d\n",
    "import matplotlib.pyplot as plt\n",
    "from tomo2mesh.projects.eaton.rw_utils_ae import read_raw_data_1X"
   ]
  },
  {
   "cell_type": "code",
   "execution_count": null,
   "id": "84dc1033",
   "metadata": {},
   "outputs": [],
   "source": [
    "projs, theta, center, dark, flat = read_raw_data_1X(\"1\", \"124\")\n",
    "b = 1\n",
    "pixel_size = 3.13\n",
    "z_crop = (1536//2, 1536)"
   ]
  },
  {
   "cell_type": "code",
   "execution_count": null,
   "id": "9fb4da47",
   "metadata": {},
   "outputs": [],
   "source": [
    "timer = TimerCPU(\"secs\")\n",
    "\n",
    "# tmp_path = '/data01/Eaton_Polymer_AM/reconstructed/tmp_rec'\n",
    "#Reconstruction\n",
    "t_gpu = TimerGPU(\"secs\")\n",
    "memory_pool = cp.cuda.MemoryPool()\n",
    "cp.cuda.set_allocator(memory_pool.malloc)\n",
    "\n",
    "ntheta, nz, n = projs.shape\n",
    "projs = np.mean(projs.reshape(ntheta,nz//b,b,n//b,b), axis = (2,4))\n",
    "projs = np.array(projs, dtype = np.float32)\n",
    "dark = np.mean(dark.reshape(nz//b, b, n//b, b), axis = (1,3))\n",
    "flat = np.mean(flat.reshape(nz//b, b, n//b, b), axis = (1,3))\n",
    "dark = np.array(dark.astype(np.float32), dtype = np.float32)\n",
    "flat = np.array(flat.astype(np.float32), dtype = np.float32)\n",
    "theta = np.array(theta, dtype = np.float32)\n",
    "center = np.float32(center/float(b))"
   ]
  },
  {
   "cell_type": "code",
   "execution_count": null,
   "id": "e810caf8",
   "metadata": {},
   "outputs": [],
   "source": [
    "#FBP\n",
    "t_gpu.tic()\n",
    "V = recon_all(projs, theta, center, 32, dark, flat, pixel_size) \n",
    "V_rec = V #[:(nz//28)*28,:(n//28)*28,:(n//28)*28] \n",
    "\n",
    "t_rec = t_gpu.toc('RECONSTRUCTION')"
   ]
  },
  {
   "cell_type": "code",
   "execution_count": null,
   "id": "55e7ce8c",
   "metadata": {},
   "outputs": [],
   "source": [
    "memory_pool.free_all_blocks()"
   ]
  },
  {
   "cell_type": "code",
   "execution_count": null,
   "id": "b1b9dac9",
   "metadata": {},
   "outputs": [],
   "source": [
    "timer = TimerCPU(\"secs\")\n",
    "timer.tic()\n",
    "p_size = 144\n",
    "patches = Patches(V_rec.shape, initialize_by = \"bestfit_grid\", patch_size = (p_size,p_size,p_size))\n",
    "x_vols = patches.extract(V_rec, (p_size,p_size,p_size))\n",
    "timer.toc(\"Create patches\")\n",
    "\n",
    "timer.tic()\n",
    "thresh_list = []\n",
    "for i in range(len(x_vols)):\n",
    "    thresh_list.append((x_vols[i]<threshold_otsu(x_vols[i][::3,::3,::3])).astype(np.uint8))\n",
    "timer.toc(\"Create thresh list\")\n",
    "\n",
    "timer = TimerCPU(\"secs\")\n",
    "timer.tic()\n",
    "V_seg = np.empty(V_rec.shape, dtype = np.uint8)\n",
    "patches.fill_patches_in_volume(thresh_list, V_seg)\n",
    "V_seg = V_seg[slice(z_crop[0]//b, z_crop[1]//b),...]\n",
    "timer.toc(\"Fill patches\")"
   ]
  },
  {
   "cell_type": "code",
   "execution_count": null,
   "id": "71c9fcc4",
   "metadata": {},
   "outputs": [],
   "source": [
    "from tomo2mesh import DataFile\n",
    "ds = DataFile('/data02/MyArchive/tmp_rec', tiff = True, d_shape = V_rec.shape, d_type = V_rec.dtype)\n",
    "ds.create_new(overwrite=True)\n",
    "ds.write_full(V_rec)"
   ]
  },
  {
   "cell_type": "code",
   "execution_count": null,
   "id": "1e86215c",
   "metadata": {},
   "outputs": [],
   "source": [
    "# Connected components\n",
    "cylindrical_mask(V_seg, 1, mask_val = 0)\n",
    "V_seg = cc3d.connected_components(V_seg)\n",
    "\n",
    "# Porosity without dust removal\n",
    "porosity = (np.sum((V_seg>0).astype(np.uint8)))/(np.prod(V_seg.shape)*np.pi/4)\n",
    "print(\"Porosity:\", porosity)\n",
    "\n",
    "timer.tic()\n",
    "voids_b = Voids().count_voids(V_seg, b, 0)\n",
    "\n",
    "# Porosity calculation with dust removal\n",
    "# try 1\n",
    "porosity = np.sum(voids_b[\"sizes\"])/(np.prod(voids_b.vol_shape)*np.pi/4)\n",
    "print(\"Porosity try1: \", porosity)\n",
    "\n",
    "# try 2\n",
    "counter = 0\n",
    "for void in voids_b[\"x_voids\"]:\n",
    "    counter += np.sum(void)\n",
    "porosity = counter/(np.prod(voids_b.vol_shape)*np.pi/4)\n",
    "print(\"Porosity try2: \", porosity)\n",
    "\n",
    "# try 3\n",
    "V_seg = np.zeros(voids_b.vol_shape, dtype=np.uint8)\n",
    "for iv, s_void in enumerate(voids_b[\"s_voids\"]):\n",
    "    V_seg[s_void] = voids_b[\"x_voids\"][iv].copy()\n",
    "print(V_seg.shape)\n",
    "porosity = (np.sum(V_seg))/(np.prod(V_seg.shape)*np.pi/4)\n",
    "print(\"Porosity try3: \", porosity)\n",
    "\n",
    "from tomo2mesh import viewer\n",
    "viewer.view_midplanes(vol = V_seg)\n",
    "plt.savefig('/data01/tmp.png')\n",
    "plt.close()\n",
    "\n",
    "\n",
    "# blow up volume enclosing voids back to full size before cropping\n",
    "voids_b.vol_shape = V_rec.shape\n",
    "voids_b.transform_linear_shift([z_crop[0]//b,0,0])\n",
    "t_label = timer.toc('LABELING')\n",
    "\n",
    "\n",
    "# assign some attributes to voids collection\n",
    "voids_b.compute_time = {\"reconstruction\" : t_rec, \"labeling\" : t_label}\n",
    "voids_b[\"porosity\"] = porosity\n"
   ]
  },
  {
   "cell_type": "code",
   "execution_count": null,
   "id": "498e2346",
   "metadata": {},
   "outputs": [],
   "source": []
  },
  {
   "cell_type": "code",
   "execution_count": null,
   "id": "47750f5c",
   "metadata": {},
   "outputs": [],
   "source": []
  },
  {
   "cell_type": "code",
   "execution_count": null,
   "id": "d176b0e0",
   "metadata": {},
   "outputs": [],
   "source": []
  },
  {
   "cell_type": "code",
   "execution_count": null,
   "id": "f27d81c8",
   "metadata": {},
   "outputs": [],
   "source": []
  },
  {
   "cell_type": "code",
   "execution_count": null,
   "id": "bd44eaf1",
   "metadata": {},
   "outputs": [],
   "source": []
  },
  {
   "cell_type": "code",
   "execution_count": null,
   "id": "c1084a1c",
   "metadata": {},
   "outputs": [],
   "source": []
  }
 ],
 "metadata": {
  "kernelspec": {
   "display_name": "tf2 cuda 112",
   "language": "python",
   "name": "tf2gpu"
  },
  "language_info": {
   "codemirror_mode": {
    "name": "ipython",
    "version": 3
   },
   "file_extension": ".py",
   "mimetype": "text/x-python",
   "name": "python",
   "nbconvert_exporter": "python",
   "pygments_lexer": "ipython3",
   "version": "3.9.12"
  }
 },
 "nbformat": 4,
 "nbformat_minor": 5
}
