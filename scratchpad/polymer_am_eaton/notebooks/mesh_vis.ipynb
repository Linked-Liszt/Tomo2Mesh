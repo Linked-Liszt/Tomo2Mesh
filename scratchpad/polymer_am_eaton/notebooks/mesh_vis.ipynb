{
 "cells": [
  {
   "cell_type": "code",
   "execution_count": 1,
   "id": "2d6a4f25",
   "metadata": {},
   "outputs": [],
   "source": [
    "import numpy as np\n",
    "import matplotlib.pyplot as plt\n",
    "import pandas as pd\n",
    "import sys\n",
    "import os\n",
    "sys.path.append('/data01/AMPolyCalc/code')\n",
    "from params import voids_path, save_path\n",
    "import glob\n",
    "from tomo_encoders.structures.voids import Voids\n",
    "import pymesh"
   ]
  },
  {
   "cell_type": "code",
   "execution_count": 2,
   "id": "30045811",
   "metadata": {},
   "outputs": [
    {
     "name": "stdout",
     "output_type": "stream",
     "text": [
      "['/data01/Eaton_Polymer_AM/voids_data/voids_sample1_layer3_b4', '/data01/Eaton_Polymer_AM/voids_data/voids_sample1_layer4_b4', '/data01/Eaton_Polymer_AM/voids_data/voids_sample1_layer1_b4', '/data01/Eaton_Polymer_AM/voids_data/voids_sample1_layer2_b4']\n"
     ]
    }
   ],
   "source": [
    "print(glob.glob(voids_path+'/*'))"
   ]
  },
  {
   "cell_type": "code",
   "execution_count": 3,
   "id": "c88561a8",
   "metadata": {},
   "outputs": [],
   "source": [
    "sample_num = 1\n",
    "layer = 1\n",
    "voids_fname = f\"voids_sample{sample_num}_layer{layer}_b4\"\n",
    "voids_1 = Voids().import_from_disk(os.path.join(voids_path, voids_fname))"
   ]
  },
  {
   "cell_type": "code",
   "execution_count": 4,
   "id": "ca037406",
   "metadata": {},
   "outputs": [
    {
     "name": "stdout",
     "output_type": "stream",
     "text": [
      "\tTIME: compute void mesh 8.66 secs\n"
     ]
    }
   ],
   "source": [
    "surf = voids_1.export_void_mesh_with_texture(\"ellipse_radius_ratio\")"
   ]
  },
  {
   "cell_type": "code",
   "execution_count": 5,
   "id": "2559434d",
   "metadata": {},
   "outputs": [],
   "source": [
    "surf.write_ply(f'/data01/Eaton_Polymer_AM/ply_files/{voids_fname}.ply')"
   ]
  },
  {
   "cell_type": "code",
   "execution_count": 6,
   "id": "51752ec0",
   "metadata": {},
   "outputs": [
    {
     "name": "stdout",
     "output_type": "stream",
     "text": [
      "/data01/Eaton_Polymer_AM/ply_files/voids_sample1_layer1_b4.ply\n"
     ]
    }
   ],
   "source": [
    "print(f'/data01/Eaton_Polymer_AM/ply_files/{voids_fname}.ply')"
   ]
  },
  {
   "cell_type": "code",
   "execution_count": 7,
   "id": "ec84e6bb",
   "metadata": {},
   "outputs": [
    {
     "data": {
      "text/plain": [
       "{'vertices': array([[-2.000e+00,  1.200e+02,  8.440e+02],\n",
       "        [ 0.000e+00,  1.200e+02,  8.420e+02],\n",
       "        [ 0.000e+00,  1.180e+02,  8.440e+02],\n",
       "        ...,\n",
       "        [ 1.150e+03,  2.416e+03,  1.344e+03],\n",
       "        [ 1.150e+03,  2.416e+03,  1.348e+03],\n",
       "        [ 1.150e+03,  2.420e+03,  1.340e+03]], dtype=float32),\n",
       " 'faces': array([[      2,       1,       0],\n",
       "        [      4,       3,       0],\n",
       "        [      0,       3,       2],\n",
       "        ...,\n",
       "        [6468221, 6468229, 6468216],\n",
       "        [6468230, 6468222, 6468218],\n",
       "        [6468222, 6468230, 6468220]], dtype=int32),\n",
       " 'texture': array([[ 10,   0, 255],\n",
       "        [ 10,   0, 255],\n",
       "        [ 10,   0, 255],\n",
       "        ...,\n",
       "        [ 28,   0, 255],\n",
       "        [ 28,   0, 255],\n",
       "        [ 28,   0, 255]], dtype=uint8)}"
      ]
     },
     "execution_count": 7,
     "metadata": {},
     "output_type": "execute_result"
    }
   ],
   "source": [
    "surf"
   ]
  },
  {
   "cell_type": "code",
   "execution_count": 8,
   "id": "a882dea9",
   "metadata": {},
   "outputs": [],
   "source": [
    "# mesh = pymesh.form_mesh(surf[\"vertices\"], surf[\"faces\"])\n",
    "# mesh, info = pymesh.collapse_short_edges(mesh, abs_threshold = 4.0)"
   ]
  },
  {
   "cell_type": "code",
   "execution_count": null,
   "id": "bd02d1cc",
   "metadata": {},
   "outputs": [],
   "source": []
  },
  {
   "cell_type": "code",
   "execution_count": null,
   "id": "17566c0a",
   "metadata": {},
   "outputs": [],
   "source": []
  },
  {
   "cell_type": "code",
   "execution_count": null,
   "id": "5b63cd25",
   "metadata": {},
   "outputs": [],
   "source": []
  },
  {
   "cell_type": "code",
   "execution_count": null,
   "id": "e3ca1d6b",
   "metadata": {},
   "outputs": [],
   "source": []
  },
  {
   "cell_type": "code",
   "execution_count": null,
   "id": "527bf06c",
   "metadata": {},
   "outputs": [],
   "source": []
  }
 ],
 "metadata": {
  "kernelspec": {
   "display_name": "tf2 cuda 112",
   "language": "python",
   "name": "tf2gpu"
  },
  "language_info": {
   "codemirror_mode": {
    "name": "ipython",
    "version": 3
   },
   "file_extension": ".py",
   "mimetype": "text/x-python",
   "name": "python",
   "nbconvert_exporter": "python",
   "pygments_lexer": "ipython3",
   "version": "3.9.12"
  }
 },
 "nbformat": 4,
 "nbformat_minor": 5
}
