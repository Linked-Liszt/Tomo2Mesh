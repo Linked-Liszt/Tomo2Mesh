{
 "cells": [
  {
   "cell_type": "code",
   "execution_count": 3,
   "metadata": {},
   "outputs": [],
   "source": [
    "import numpy as np\n",
    "import sys\n",
    "sys.path.append('/data01/AMPolyCalc/code')\n",
    "from void_params import fit_ellipsoid, _edge_map\n",
    "from rw_utils import read_raw_data_1X\n",
    "from params import pixel_size_1X as pixel_size\n",
    "from void_mapping import void_map_gpu\n"
   ]
  },
  {
   "cell_type": "code",
   "execution_count": 27,
   "metadata": {},
   "outputs": [
    {
     "name": "stdout",
     "output_type": "stream",
     "text": [
      "\tTIME: RECONSTRUCTION 2.67 secs\n",
      "\tSTAT: voids found - 34242\n",
      "\tTIME: LABELING 12.26 secs\n"
     ]
    }
   ],
   "source": [
    "projs, theta, center, dark, flat = read_raw_data_1X(\"1\", \"1\")\n",
    "b = 4\n",
    "voids_4 = void_map_gpu(projs, theta, center, dark, flat, b, pixel_size)\n",
    "#voids_4.sort_by_size(reverse=True)"
   ]
  },
  {
   "cell_type": "code",
   "execution_count": 26,
   "metadata": {},
   "outputs": [
    {
     "name": "stdout",
     "output_type": "stream",
     "text": [
      "[34241 34206 34205 ...     2     1     0]\n",
      "[    0     1     2 ... 34239 34240 34241]\n",
      "[34241 34206 34205 ...     2     1     0]\n",
      "[-0.85799288  0.68856321  1.59442479 ... -0.26251539 -0.96451105\n",
      "  0.53912733]\n"
     ]
    }
   ],
   "source": [
    "#Creating chunked x_voids to put into multiprocessor\n",
    "nv = len(voids_4[\"x_voids\"])\n",
    "nproc = 32\n",
    "\n",
    "x_voids = voids_4[\"x_voids\"]\n",
    "sizes = voids_4[\"sizes\"]\n",
    "\n",
    "idx = np.argsort(sizes)\n",
    "print(idx)\n",
    "idx_old = np.arange(len(sizes))\n",
    "print(idx_old)\n",
    "idx_old = idx_old[idx]\n",
    "print(idx_old)\n",
    "\n",
    "idxs = np.array_split(idx, nproc)\n",
    "\n",
    "x_voids_nested = [[x_voids[ii] for ii in idxs[jj]] for jj in range(nproc)]\n",
    "\n",
    "#Return major axis length that corresponds to x_voids \n",
    "rad_max_nested = [np.random.normal(0,1,len(x_voids_nested[i])) for i in range(nproc)]\n",
    "\n",
    "rad_max = np.concatenate(rad_max_nested, axis = 0)\n",
    "rad_max = rad_max[idx_old]\n",
    "\n",
    "print(rad_max)"
   ]
  },
  {
   "cell_type": "code",
   "execution_count": null,
   "metadata": {},
   "outputs": [],
   "source": [
    "def max_ellip_rad(x_voids):\n",
    "    sizes = np.asarray([np.sum(x_voids[ii]) for ii in range(len(x_voids))])\n",
    "    x_voids = [_edge_map(x_void) for x_void in x_voids]\n",
    "\n",
    "    cen, rad, rot, loc_exists, ellipticity_E, ellipticity_P = fit_ellipsoid(x_voids,sizes)\n",
    "\n",
    "    rad = [max(length) for length in rad]\n",
    "    \n",
    "    return rad\n",
    "\n",
    "\n",
    "p = Pool(processes = 32)\n",
    "OutList = p.starmap(max_ellip_rad, voids_4[\"x_voids\"])\n",
    "p.close()\n",
    "\n",
    "print(OutList)"
   ]
  }
 ],
 "metadata": {
  "interpreter": {
   "hash": "622acb3f3c0a44912b7ee15ea5635888f1446cadb9842bc2dd0e64039bfaa98c"
  },
  "kernelspec": {
   "display_name": "Python 3.9.12 ('tf2GPU')",
   "language": "python",
   "name": "python3"
  },
  "language_info": {
   "codemirror_mode": {
    "name": "ipython",
    "version": 3
   },
   "file_extension": ".py",
   "mimetype": "text/x-python",
   "name": "python",
   "nbconvert_exporter": "python",
   "pygments_lexer": "ipython3",
   "version": "3.9.12"
  },
  "orig_nbformat": 4
 },
 "nbformat": 4,
 "nbformat_minor": 2
}
