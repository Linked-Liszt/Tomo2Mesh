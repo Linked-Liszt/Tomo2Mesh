{
 "cells": [
  {
   "cell_type": "code",
   "execution_count": 1,
   "id": "906809f2",
   "metadata": {},
   "outputs": [],
   "source": [
    "import numpy as np\n",
    "import matplotlib.pyplot as plt\n",
    "import sys\n",
    "sys.path.append('/data01/AMPolyCalc/code')\n",
    "from rw_utils import read_raw_data_1X, save_path\n",
    "from recon import recon_slice, recon_binned\n",
    "from void_mapping import void_map_gpu\n",
    "from tomo_encoders.misc import viewer\n",
    "from tomo_encoders.misc.voxel_processing import get_values_cyl_mask\n",
    "import cupy as cp\n",
    "from skimage.filters import threshold_otsu\n",
    "from void_params import fit_ellipsoid, _edge_map"
   ]
  },
  {
   "cell_type": "code",
   "execution_count": 2,
   "id": "81666910",
   "metadata": {},
   "outputs": [],
   "source": [
    "projs, theta, center, dark, flat = read_raw_data_1X(\"1\", \"1\")\n",
    "b = 4\n",
    "from params import pixel_size_1X as pixel_size"
   ]
  },
  {
   "cell_type": "code",
   "execution_count": 3,
   "id": "ccf72cf5",
   "metadata": {},
   "outputs": [
    {
     "name": "stdout",
     "output_type": "stream",
     "text": [
      "\tTIME: RECONSTRUCTION 3.85 secs\n",
      "\tSTAT: voids found - 34242\n",
      "\tTIME: LABELING 11.91 secs\n"
     ]
    }
   ],
   "source": [
    "voids_4 = void_map_gpu(projs, theta, center, dark, flat, b, pixel_size)"
   ]
  },
  {
   "cell_type": "code",
   "execution_count": 4,
   "id": "dd37410d",
   "metadata": {},
   "outputs": [],
   "source": [
    "for iv in range(len(voids_4)):\n",
    "    voids_4[\"x_voids\"][iv] = _edge_map(voids_4[\"x_voids\"][iv])"
   ]
  },
  {
   "cell_type": "code",
   "execution_count": 5,
   "id": "cbcebe5b",
   "metadata": {},
   "outputs": [],
   "source": [
    "voids_4.sort_by_size(reverse=True)"
   ]
  },
  {
   "cell_type": "code",
   "execution_count": 6,
   "id": "f5a86a19",
   "metadata": {
    "scrolled": true
   },
   "outputs": [
    {
     "name": "stderr",
     "output_type": "stream",
     "text": [
      "100%|█████████████████████████████████████| 34242/34242 [24:31<00:00, 23.27it/s]"
     ]
    },
    {
     "name": "stdout",
     "output_type": "stream",
     "text": [
      "Time: 1471.5590586662292\n"
     ]
    },
    {
     "name": "stderr",
     "output_type": "stream",
     "text": [
      "\n"
     ]
    }
   ],
   "source": [
    "cen, rad, rot, loc_exists, ellipticity_E, ellipticity_P = fit_ellipsoid(voids_4[\"x_voids\"],voids_4[\"sizes\"])"
   ]
  },
  {
   "cell_type": "code",
   "execution_count": 7,
   "id": "569bc767",
   "metadata": {},
   "outputs": [],
   "source": [
    "# np.save(\"/data01/Eaton_Polymer_AM/test_data/ellip_cen.npy\",np.asarray(cen))\n",
    "# np.save(\"/data01/Eaton_Polymer_AM/test_data/ellip_rad.npy\",np.asarray(rad))\n",
    "# np.save(\"/data01/Eaton_Polymer_AM/test_data/ellip_rot.npy\",np.asarray(rot))\n",
    "# np.save(\"/data01/Eaton_Polymer_AM/test_data/ellip_E.npy\",np.asarray(ellipticity_E))\n",
    "# np.save(\"/data01/Eaton_Polymer_AM/test_data/ellip_P.npy\",np.asarray(ellipticity_P))"
   ]
  },
  {
   "cell_type": "code",
   "execution_count": null,
   "id": "b2f5c23b",
   "metadata": {},
   "outputs": [],
   "source": []
  },
  {
   "cell_type": "code",
   "execution_count": null,
   "id": "47070641",
   "metadata": {},
   "outputs": [],
   "source": []
  },
  {
   "cell_type": "code",
   "execution_count": null,
   "id": "6ca795ac",
   "metadata": {},
   "outputs": [],
   "source": []
  },
  {
   "cell_type": "code",
   "execution_count": null,
   "id": "d34345c0",
   "metadata": {},
   "outputs": [],
   "source": []
  },
  {
   "cell_type": "code",
   "execution_count": null,
   "id": "f60e501b",
   "metadata": {},
   "outputs": [],
   "source": []
  },
  {
   "cell_type": "code",
   "execution_count": null,
   "id": "fee25677",
   "metadata": {},
   "outputs": [],
   "source": []
  }
 ],
 "metadata": {
  "kernelspec": {
   "display_name": "tf2 cuda 112",
   "language": "python",
   "name": "tf2gpu"
  },
  "language_info": {
   "codemirror_mode": {
    "name": "ipython",
    "version": 3
   },
   "file_extension": ".py",
   "mimetype": "text/x-python",
   "name": "python",
   "nbconvert_exporter": "python",
   "pygments_lexer": "ipython3",
   "version": "3.9.12"
  }
 },
 "nbformat": 4,
 "nbformat_minor": 5
}
