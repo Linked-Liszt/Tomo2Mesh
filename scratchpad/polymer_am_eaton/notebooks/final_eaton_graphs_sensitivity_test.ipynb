{
 "cells": [
  {
   "cell_type": "code",
   "execution_count": 8,
   "id": "9f5aba27",
   "metadata": {},
   "outputs": [],
   "source": [
    "# from cmath import nan\n",
    "# from scratchpad.polymer_am_eaton.scratch.plot_eaton_graphs import number_density_z\n",
    "from tomo2mesh.structures.voids import VoidLayers\n",
    "import numpy as np\n",
    "import matplotlib.pyplot as plt\n",
    "import seaborn as sns\n",
    "import pandas as pd\n",
    "\n",
    "import sys\n",
    "import os\n",
    "\n",
    "# from tomo2mesh.projects.eaton.rw_utils_ae import read_raw_data_1X, save_path\n",
    "# from tomo2mesh.projects.eaton.void_mapping import void_map_gpu, void_map_all\n",
    "# from tomo2mesh.projects.eaton.params import pixel_size_1X as pixel_size\n",
    "# from tomo2mesh.projects.eaton.recon import recon_binned, recon_all\n",
    "# from tomo2mesh.structures.patches import Patches\n",
    "# from tomo2mesh.structures.voids import Voids\n",
    "\n",
    "# from operator import mod\n",
    "# from tomo2mesh.misc.voxel_processing import TimerGPU, edge_map, modified_autocontrast, get_values_cyl_mask, cylindrical_mask, TimerCPU\n",
    "# from tomo2mesh.projects.eaton.recon import recon_binned\n",
    "# import cupy as cp\n",
    "\n",
    "# from skimage.filters import threshold_otsu\n",
    "# from cupyx.scipy import ndimage\n",
    "# from scipy import ndimage as ndimage_cpu\n",
    "# import cc3d\n",
    "\n",
    "# plots_dir = '/home/yash/eaton_plots2/'\n",
    "# if not os.path.exists(plots_dir):\n",
    "#     os.makedirs(plots_dir)\n",
    "#import matplotlib as mpl\n",
    "# mpl.use('Agg')\n"
   ]
  },
  {
   "cell_type": "code",
   "execution_count": 2,
   "id": "e39496fa",
   "metadata": {},
   "outputs": [],
   "source": [
    "sample_tag = '1'\n",
    "scan_tag = '125'\n",
    "b=1\n",
    "z_crop = (0,1536)\n",
    "fpath = f'/data01/Eaton_Polymer_AM/voids_data/sample{sample_tag}_scan{scan_tag}_fact{b}'\n",
    "radius = 50\n"
   ]
  },
  {
   "cell_type": "code",
   "execution_count": 3,
   "id": "898025fb",
   "metadata": {},
   "outputs": [],
   "source": [
    "# projs, theta, center, dark, flat = read_raw_data_1X(sample_tag, scan_tag)\n"
   ]
  },
  {
   "cell_type": "code",
   "execution_count": 4,
   "id": "a7e3ae6c",
   "metadata": {},
   "outputs": [],
   "source": [
    "# timer = TimerCPU(\"secs\")\n",
    "\n",
    "# # tmp_path = '/data01/Eaton_Polymer_AM/reconstructed/tmp_rec'\n",
    "# #Reconstruction\n",
    "# t_gpu = TimerGPU(\"secs\")\n",
    "# memory_pool = cp.cuda.MemoryPool()\n",
    "# cp.cuda.set_allocator(memory_pool.malloc)\n",
    "\n",
    "# ntheta, nz, n = projs.shape\n",
    "# projs = np.mean(projs.reshape(ntheta,nz//b,b,n//b,b), axis = (2,4))\n",
    "# projs = np.array(projs, dtype = np.float32)\n",
    "# dark = np.mean(dark.reshape(nz//b, b, n//b, b), axis = (1,3))\n",
    "# flat = np.mean(flat.reshape(nz//b, b, n//b, b), axis = (1,3))\n",
    "# dark = np.array(dark.astype(np.float32), dtype = np.float32)\n",
    "# flat = np.array(flat.astype(np.float32), dtype = np.float32)\n",
    "# theta = np.array(theta, dtype = np.float32)\n",
    "# center = np.float32(center/float(b))\n",
    "\n",
    "# #FBP\n",
    "# t_gpu.tic()\n",
    "# V = recon_all(projs, theta, center, 32, dark, flat, pixel_size) \n",
    "# V_rec = V #[:(nz//28)*28,:(n//28)*28,:(n//28)*28] \n",
    "\n",
    "# t_rec = t_gpu.toc('RECONSTRUCTION')\n",
    "\n",
    "# timer = TimerCPU(\"secs\")\n",
    "# timer.tic()\n",
    "# p_size = 144\n",
    "# patches = Patches(V_rec.shape, initialize_by = \"bestfit_grid\", patch_size = (p_size,p_size,p_size))\n",
    "# x_vols = patches.extract(V_rec, (p_size,p_size,p_size))\n",
    "# timer.toc(\"Create patches\")\n",
    "\n",
    "# timer.tic()\n",
    "# thresh_list = []\n",
    "# for i in range(len(x_vols)):\n",
    "#     thresh_list.append((x_vols[i]<threshold_otsu(x_vols[i][::3,::3,::3])).astype(np.uint8))\n",
    "# timer.toc(\"Create thresh list\")\n",
    "\n",
    "# timer = TimerCPU(\"secs\")\n",
    "# timer.tic()\n",
    "# V_seg = np.empty(V_rec.shape, dtype = np.uint8)\n",
    "# patches.fill_patches_in_volume(thresh_list, V_seg)\n",
    "# V_seg = V_seg[slice(z_crop[0]//b, z_crop[1]//b),...]\n",
    "# timer.toc(\"Fill patches\")\n",
    "\n",
    "# # Connected components\n",
    "# if b==1:\n",
    "#     cylindrical_mask(V_seg, 1, mask_val = 0)\n",
    "#     V_seg = cc3d.connected_components(V_seg)\n",
    "\n",
    "#     # Porosity without dust removal\n",
    "#     porosity = (np.sum((V_seg>0).astype(np.uint8)))/(np.prod(V_seg.shape)*np.pi/4)\n",
    "#     print(\"Porosity before dust removal:\", porosity)\n",
    "\n",
    "#     timer.tic()\n",
    "#     voids_b = Voids().count_voids(V_seg, b, 0)\n",
    "\n",
    "#     # Porosity calculation with dust removal\n",
    "#     # try 1\n",
    "#     porosity = np.sum(voids_b[\"sizes\"])/(np.prod(voids_b.vol_shape)*np.pi/4)\n",
    "#     print(\"Porosity after dust removal: \", porosity)\n",
    "#     voids_b[\"porosity\"] = porosity\n"
   ]
  },
  {
   "cell_type": "code",
   "execution_count": 5,
   "id": "ab409455",
   "metadata": {},
   "outputs": [],
   "source": [
    "# del V\n",
    "# del V_rec\n",
    "# del V_seg\n",
    "# memory_pool.free_all_blocks() "
   ]
  },
  {
   "cell_type": "code",
   "execution_count": 6,
   "id": "07650317",
   "metadata": {},
   "outputs": [],
   "source": [
    "# voids_b.write_to_disk(f'/data01/Eaton_Polymer_AM/voids_data/sample{sample_tag}_scan{scan_tag}_fact{b}')\n"
   ]
  },
  {
   "cell_type": "code",
   "execution_count": 9,
   "id": "79906005",
   "metadata": {},
   "outputs": [],
   "source": [
    "voids_all = VoidLayers().import_from_disk(fpath)\n"
   ]
  },
  {
   "cell_type": "code",
   "execution_count": 83,
   "id": "75e3c099",
   "metadata": {},
   "outputs": [],
   "source": [
    "dust_thresh = [0,2,5,8,11,14,17,20,23] #,26,29,32,35,38,41,44,47]\n",
    "porosity = []\n",
    "for i in range(len(dust_thresh)):\n",
    "    count = 0\n",
    "    for j in range(len(voids_all['x_voids'])):\n",
    "        if np.all(np.clip(voids_all['x_voids'][j].shape-np.array((dust_thresh[i],dust_thresh[i],dust_thresh[i])), 0, None)):\n",
    "            count+=voids_all['sizes'][j]\n",
    "    porosity.append(np.sum(count)/(2448*2448*1536*np.pi/4))\n",
    "    \n",
    "dust_thresh = (np.array(dust_thresh)+1)*3.13\n",
    "porosity = np.array(porosity)*100\n",
    "    "
   ]
  },
  {
   "cell_type": "code",
   "execution_count": 87,
   "id": "ee690fb0",
   "metadata": {
    "scrolled": false
   },
   "outputs": [
    {
     "data": {
      "image/png": "[encoded data removed]",
      "text/plain": [
       "<Figure size 432x432 with 1 Axes>"
      ]
     },
     "metadata": {},
     "output_type": "display_data"
    }
   ],
   "source": [
    "label=[\"$\\mu m$\"]\n",
    "\n",
    "sns.set(font_scale=1.2)\n",
    "sns.set_style(style = \"white\")\n",
    "fig, ax = plt.subplots(1,1, figsize = (6,6))\n",
    "ax.scatter(dust_thresh, porosity, marker=\"x\", color = \"black\")\n",
    "ax.set_title(\"Porosity vs. Dust Threshold\")\n",
    "ax.set_xlabel(f\"Dust Threshold ({label[0]})\")\n",
    "ax.set_ylabel(\"Porosity (%)\")\n",
    "ax.set_ylim([8.5,12])\n",
    "# plt.savefig(plots_dir + f'sensitivity_test_porosity_sample{sample_tag}_scan{str(scan_tag)}.png', format='png')\n",
    "# plt.close()\n",
    "plt.show()\n"
   ]
  },
  {
   "cell_type": "code",
   "execution_count": null,
   "id": "d3242e0c",
   "metadata": {},
   "outputs": [],
   "source": []
  },
  {
   "cell_type": "code",
   "execution_count": null,
   "id": "7c25e6fa",
   "metadata": {},
   "outputs": [],
   "source": []
  }
 ],
 "metadata": {
  "kernelspec": {
   "display_name": "Python 3 (ipykernel)",
   "language": "python",
   "name": "python3"
  },
  "language_info": {
   "codemirror_mode": {
    "name": "ipython",
    "version": 3
   },
   "file_extension": ".py",
   "mimetype": "text/x-python",
   "name": "python",
   "nbconvert_exporter": "python",
   "pygments_lexer": "ipython3",
   "version": "3.9.12"
  }
 },
 "nbformat": 4,
 "nbformat_minor": 5
}
