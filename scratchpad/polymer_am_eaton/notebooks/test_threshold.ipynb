{
 "cells": [
  {
   "cell_type": "code",
   "execution_count": 1,
   "id": "77dab51b",
   "metadata": {},
   "outputs": [],
   "source": [
    "from operator import mod\n",
    "from tomo2mesh.misc.voxel_processing import TimerGPU, edge_map, modified_autocontrast, get_values_cyl_mask, cylindrical_mask\n",
    "from tomo2mesh.projects.eaton.recon import recon_binned, recon_all\n",
    "from tomo2mesh.projects.eaton.params import pixel_size_1X as pixel_size\n",
    "from tomo2mesh.projects.eaton.rw_utils import read_raw_data_1X, save_path\n",
    "\n",
    "import cupy as cp\n",
    "import numpy as np\n",
    "from tomo2mesh.structures.voids import Voids\n",
    "from skimage.filters import threshold_otsu\n",
    "from skimage.filters import threshold_local\n",
    "from cupyx.scipy import ndimage\n",
    "from scipy import ndimage as ndimage_cpu\n",
    "import matplotlib.pyplot as plt"
   ]
  },
  {
   "cell_type": "code",
   "execution_count": 2,
   "id": "4d05f3c7",
   "metadata": {},
   "outputs": [],
   "source": [
    "nz = 100\n",
    "n = 200\n",
    "b = 4\n",
    "A = np.random.normal(0,1,(nz,n,n))\n",
    "A_b = A.copy()\n",
    "A_gt = (A > 0.5).astype(np.uint8)\n",
    "B = np.ones((nz//b,n//b,n//b))*0.5"
   ]
  },
  {
   "cell_type": "code",
   "execution_count": 3,
   "id": "32b6c8f1",
   "metadata": {},
   "outputs": [],
   "source": [
    "A = A.reshape(nz//b, b, n//b, b, n//b, b)"
   ]
  },
  {
   "cell_type": "code",
   "execution_count": 4,
   "id": "88fdc2e7",
   "metadata": {},
   "outputs": [
    {
     "name": "stdout",
     "output_type": "stream",
     "text": [
      "(25, 4, 50, 4, 50, 4)\n",
      "(25, 4, 50, 4, 50, 4)\n"
     ]
    }
   ],
   "source": [
    "# approach 1?\n",
    "print(A.shape)\n",
    "for k in range(b):\n",
    "    for j in range(b):\n",
    "        for i in range(b):\n",
    "            A[:,i,:,j,:,k] = (A[:,i,:,j,:,k] > B)\n",
    "# A = A.reshape(nz, n, n)\n",
    "print(A.shape)"
   ]
  },
  {
   "cell_type": "code",
   "execution_count": 8,
   "id": "e6181a68",
   "metadata": {
    "scrolled": false
   },
   "outputs": [
    {
     "data": {
      "text/plain": [
       "1.0"
      ]
     },
     "execution_count": 8,
     "metadata": {},
     "output_type": "execute_result"
    }
   ],
   "source": [
    "np.sum(A.reshape(nz,n,n) == A_gt)/A.size"
   ]
  },
  {
   "cell_type": "code",
   "execution_count": null,
   "id": "0d9a3b7b",
   "metadata": {},
   "outputs": [],
   "source": []
  },
  {
   "cell_type": "code",
   "execution_count": null,
   "id": "9280a2cd",
   "metadata": {},
   "outputs": [],
   "source": []
  },
  {
   "cell_type": "code",
   "execution_count": null,
   "id": "cc865aab",
   "metadata": {},
   "outputs": [],
   "source": []
  }
 ],
 "metadata": {
  "kernelspec": {
   "display_name": "Python 3 (ipykernel)",
   "language": "python",
   "name": "python3"
  },
  "language_info": {
   "codemirror_mode": {
    "name": "ipython",
    "version": 3
   },
   "file_extension": ".py",
   "mimetype": "text/x-python",
   "name": "python",
   "nbconvert_exporter": "python",
   "pygments_lexer": "ipython3",
   "version": "3.9.12"
  }
 },
 "nbformat": 4,
 "nbformat_minor": 5
}
