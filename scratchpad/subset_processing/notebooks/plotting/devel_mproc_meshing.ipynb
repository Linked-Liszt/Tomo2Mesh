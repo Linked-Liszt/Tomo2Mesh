{
 "cells": [
  {
   "cell_type": "code",
   "execution_count": 1,
   "id": "4848317b",
   "metadata": {},
   "outputs": [],
   "source": [
    "%matplotlib inline\n",
    "import numpy as np\n",
    "import matplotlib.pyplot as plt\n",
    "import seaborn as sns\n",
    "\n",
    "from tomo2mesh.misc import viewer\n",
    "from tomo2mesh import DataFile\n",
    "from skimage.filters import threshold_otsu\n",
    "from tomo2mesh import Voids\n",
    "import os\n",
    "from tomo2mesh.projects.subset_processing.utils import *"
   ]
  },
  {
   "cell_type": "code",
   "execution_count": 2,
   "id": "e6fe781f",
   "metadata": {},
   "outputs": [],
   "source": [
    "b = 4\n",
    "voids_coarse = Voids().import_from_disk(os.path.join(voids_dir,f\"voids_b_{b}\"))\n",
    "voids_fine = Voids().import_from_disk(os.path.join(voids_dir,f\"voids_b_{b}_subset\"))"
   ]
  },
  {
   "cell_type": "code",
   "execution_count": 4,
   "id": "457cf914",
   "metadata": {},
   "outputs": [
    {
     "name": "stdout",
     "output_type": "stream",
     "text": [
      "\tTIME: compute void mesh 87.57 secs\n"
     ]
    }
   ],
   "source": [
    "surf1 = voids_fine.export_void_mesh_with_texture(\"sizes\", edge_thresh=1.0)"
   ]
  },
  {
   "cell_type": "code",
   "execution_count": 5,
   "id": "53208a44",
   "metadata": {},
   "outputs": [
    {
     "name": "stdout",
     "output_type": "stream",
     "text": [
      "\tTIME: compute void mesh 13.57 secs\n"
     ]
    }
   ],
   "source": [
    "surf2 = voids_fine.export_void_mesh_mproc(\"sizes\", edge_thresh=1.0)"
   ]
  },
  {
   "cell_type": "code",
   "execution_count": 10,
   "id": "b965de1c",
   "metadata": {},
   "outputs": [
    {
     "name": "stdout",
     "output_type": "stream",
     "text": [
      "\tTIME: compute void mesh 6.82 secs\n"
     ]
    }
   ],
   "source": [
    "surf10 = voids_fine.export_void_mesh_with_texture(\"sizes\", edge_thresh=0.0)"
   ]
  },
  {
   "cell_type": "code",
   "execution_count": 11,
   "id": "6c63d14b",
   "metadata": {},
   "outputs": [
    {
     "name": "stdout",
     "output_type": "stream",
     "text": [
      "\tTIME: compute void mesh 2.74 secs\n"
     ]
    }
   ],
   "source": [
    "surf20 = voids_fine.export_void_mesh_mproc(\"sizes\", edge_thresh=0.0)"
   ]
  },
  {
   "cell_type": "code",
   "execution_count": null,
   "id": "ddc18539",
   "metadata": {},
   "outputs": [],
   "source": []
  },
  {
   "cell_type": "code",
   "execution_count": null,
   "id": "839cd60d",
   "metadata": {},
   "outputs": [],
   "source": []
  },
  {
   "cell_type": "code",
   "execution_count": null,
   "id": "6e888406",
   "metadata": {},
   "outputs": [],
   "source": []
  }
 ],
 "metadata": {
  "kernelspec": {
   "display_name": "tf2 cuda 112",
   "language": "python",
   "name": "tf2gpu"
  },
  "language_info": {
   "codemirror_mode": {
    "name": "ipython",
    "version": 3
   },
   "file_extension": ".py",
   "mimetype": "text/x-python",
   "name": "python",
   "nbconvert_exporter": "python",
   "pygments_lexer": "ipython3",
   "version": "3.9.12"
  }
 },
 "nbformat": 4,
 "nbformat_minor": 5
}
